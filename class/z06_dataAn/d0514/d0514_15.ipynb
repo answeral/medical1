{
 "cells": [
  {
   "cell_type": "code",
   "execution_count": 122,
   "metadata": {},
   "outputs": [],
   "source": [
    "# 막대그래프 score.xlsx 합계 점수를 뽑아서 그래프로 표현\n",
    "import matplotlib.pyplot as plt\n",
    "import matplotlib\n",
    "import numpy as np\n",
    "import pandas as pd\n",
    "matplotlib.rcParams['font.family'] = 'Malgun Gothic'\n",
    "matplotlib.rcParams['font.size'] = 10\n",
    "matplotlib.rcParams['axes.unicode_minus'] = False\n"
   ]
  },
  {
   "cell_type": "code",
   "execution_count": 123,
   "metadata": {},
   "outputs": [
    {
     "data": {
      "text/html": [
       "<div>\n",
       "<style scoped>\n",
       "    .dataframe tbody tr th:only-of-type {\n",
       "        vertical-align: middle;\n",
       "    }\n",
       "\n",
       "    .dataframe tbody tr th {\n",
       "        vertical-align: top;\n",
       "    }\n",
       "\n",
       "    .dataframe thead th {\n",
       "        text-align: right;\n",
       "    }\n",
       "</style>\n",
       "<table border=\"1\" class=\"dataframe\">\n",
       "  <thead>\n",
       "    <tr style=\"text-align: right;\">\n",
       "      <th></th>\n",
       "      <th>0~4세</th>\n",
       "      <th>5~9세</th>\n",
       "      <th>10~14세</th>\n",
       "      <th>15~19세</th>\n",
       "      <th>20~24세</th>\n",
       "      <th>25~29세</th>\n",
       "      <th>30~34세</th>\n",
       "      <th>35~39세</th>\n",
       "      <th>40~44세</th>\n",
       "      <th>45~49세</th>\n",
       "      <th>...</th>\n",
       "      <th>55~59세</th>\n",
       "      <th>60~64세</th>\n",
       "      <th>65~69세</th>\n",
       "      <th>70~74세</th>\n",
       "      <th>75~79세</th>\n",
       "      <th>80~84세</th>\n",
       "      <th>85~89세</th>\n",
       "      <th>90~94세</th>\n",
       "      <th>95~99세</th>\n",
       "      <th>100세 이상</th>\n",
       "    </tr>\n",
       "    <tr>\n",
       "      <th>행정기관</th>\n",
       "      <th></th>\n",
       "      <th></th>\n",
       "      <th></th>\n",
       "      <th></th>\n",
       "      <th></th>\n",
       "      <th></th>\n",
       "      <th></th>\n",
       "      <th></th>\n",
       "      <th></th>\n",
       "      <th></th>\n",
       "      <th></th>\n",
       "      <th></th>\n",
       "      <th></th>\n",
       "      <th></th>\n",
       "      <th></th>\n",
       "      <th></th>\n",
       "      <th></th>\n",
       "      <th></th>\n",
       "      <th></th>\n",
       "      <th></th>\n",
       "      <th></th>\n",
       "    </tr>\n",
       "  </thead>\n",
       "  <tbody>\n",
       "    <tr>\n",
       "      <th>전국</th>\n",
       "      <td>726,460</td>\n",
       "      <td>1,072,653</td>\n",
       "      <td>1,211,077</td>\n",
       "      <td>1,211,949</td>\n",
       "      <td>1,524,378</td>\n",
       "      <td>1,823,908</td>\n",
       "      <td>1,737,714</td>\n",
       "      <td>1,684,266</td>\n",
       "      <td>2,055,130</td>\n",
       "      <td>2,039,606</td>\n",
       "      <td>...</td>\n",
       "      <td>2,052,227</td>\n",
       "      <td>2,097,254</td>\n",
       "      <td>1,554,976</td>\n",
       "      <td>1,038,388</td>\n",
       "      <td>713,448</td>\n",
       "      <td>507,915</td>\n",
       "      <td>212,726</td>\n",
       "      <td>54,180</td>\n",
       "      <td>8,880</td>\n",
       "      <td>1,307</td>\n",
       "    </tr>\n",
       "  </tbody>\n",
       "</table>\n",
       "<p>1 rows × 21 columns</p>\n",
       "</div>"
      ],
      "text/plain": [
       "         0~4세       5~9세     10~14세     15~19세     20~24세     25~29세  \\\n",
       "행정기관                                                                   \n",
       "전국    726,460  1,072,653  1,211,077  1,211,949  1,524,378  1,823,908   \n",
       "\n",
       "         30~34세     35~39세     40~44세     45~49세  ...     55~59세     60~64세  \\\n",
       "행정기관                                              ...                         \n",
       "전국    1,737,714  1,684,266  2,055,130  2,039,606  ...  2,052,227  2,097,254   \n",
       "\n",
       "         65~69세     70~74세   75~79세   80~84세   85~89세  90~94세 95~99세 100세 이상  \n",
       "행정기관                                                                          \n",
       "전국    1,554,976  1,038,388  713,448  507,915  212,726  54,180  8,880   1,307  \n",
       "\n",
       "[1 rows x 21 columns]"
      ]
     },
     "execution_count": 123,
     "metadata": {},
     "output_type": "execute_result"
    }
   ],
   "source": [
    "import pandas as pd\n",
    "df = pd.read_excel('../z20_data/20230104_연령별인구현황2.xlsx',skiprows=3,nrows=1,\n",
    "                   index_col='행정기관',usecols='B,E:Y')\n",
    "df.head(3)\n",
    "# 0-14 , 15-64, 65-100"
   ]
  },
  {
   "cell_type": "code",
   "execution_count": 124,
   "metadata": {},
   "outputs": [],
   "source": [
    "# # df['0~14세']\n",
    "# df['0~14세'] = df['0~4세'] + df['10~14세']\n",
    "\n",
    "# df['15세~64세'] = df['15~19세']+df['20~24세'] +df['25~29세'] +df['30~34세']+df['35~39세']\n",
    "# +df['40~44세']+df['45~49세']+df['50~54세']+df['55~59세']+df['60~64세']\n",
    "\n",
    "# df['65세~100세'] = df['65~69세']+df['70~74세']+df['75~79세']+df['80~84세']+df['85~89세']\n",
    "# +df['90~94세']+df['95~99세']"
   ]
  },
  {
   "cell_type": "code",
   "execution_count": 125,
   "metadata": {},
   "outputs": [
    {
     "data": {
      "text/plain": [
       "array(['0~4세', '5~9세', '10~14세', '15~19세', '20~24세', '25~29세', '30~34세',\n",
       "       '35~39세', '40~44세', '45~49세', '50~54세', '55~59세', '60~64세',\n",
       "       '65~69세', '70~74세', '75~79세', '80~84세', '85~89세', '90~94세',\n",
       "       '95~99세', '100세 이상'], dtype=object)"
      ]
     },
     "execution_count": 125,
     "metadata": {},
     "output_type": "execute_result"
    }
   ],
   "source": [
    "df.columns.values"
   ]
  },
  {
   "cell_type": "code",
   "execution_count": 126,
   "metadata": {},
   "outputs": [
    {
     "data": {
      "text/plain": [
       "array(['전국  '], dtype=object)"
      ]
     },
     "execution_count": 126,
     "metadata": {},
     "output_type": "execute_result"
    }
   ],
   "source": [
    "df.index.values"
   ]
  },
  {
   "cell_type": "code",
   "execution_count": 127,
   "metadata": {},
   "outputs": [],
   "source": [
    "for i in range(df.shape[1]):\n",
    "     df[df.columns[i]]=df[df.columns[i]].str.replace(\",\",\"\").astype(int)"
   ]
  },
  {
   "cell_type": "code",
   "execution_count": 128,
   "metadata": {},
   "outputs": [
    {
     "data": {
      "text/html": [
       "<div>\n",
       "<style scoped>\n",
       "    .dataframe tbody tr th:only-of-type {\n",
       "        vertical-align: middle;\n",
       "    }\n",
       "\n",
       "    .dataframe tbody tr th {\n",
       "        vertical-align: top;\n",
       "    }\n",
       "\n",
       "    .dataframe thead th {\n",
       "        text-align: right;\n",
       "    }\n",
       "</style>\n",
       "<table border=\"1\" class=\"dataframe\">\n",
       "  <thead>\n",
       "    <tr style=\"text-align: right;\">\n",
       "      <th></th>\n",
       "      <th>0~4세</th>\n",
       "      <th>5~9세</th>\n",
       "      <th>10~14세</th>\n",
       "      <th>15~19세</th>\n",
       "      <th>20~24세</th>\n",
       "      <th>25~29세</th>\n",
       "      <th>30~34세</th>\n",
       "      <th>35~39세</th>\n",
       "      <th>40~44세</th>\n",
       "      <th>45~49세</th>\n",
       "      <th>...</th>\n",
       "      <th>55~59세</th>\n",
       "      <th>60~64세</th>\n",
       "      <th>65~69세</th>\n",
       "      <th>70~74세</th>\n",
       "      <th>75~79세</th>\n",
       "      <th>80~84세</th>\n",
       "      <th>85~89세</th>\n",
       "      <th>90~94세</th>\n",
       "      <th>95~99세</th>\n",
       "      <th>100세 이상</th>\n",
       "    </tr>\n",
       "    <tr>\n",
       "      <th>행정기관</th>\n",
       "      <th></th>\n",
       "      <th></th>\n",
       "      <th></th>\n",
       "      <th></th>\n",
       "      <th></th>\n",
       "      <th></th>\n",
       "      <th></th>\n",
       "      <th></th>\n",
       "      <th></th>\n",
       "      <th></th>\n",
       "      <th></th>\n",
       "      <th></th>\n",
       "      <th></th>\n",
       "      <th></th>\n",
       "      <th></th>\n",
       "      <th></th>\n",
       "      <th></th>\n",
       "      <th></th>\n",
       "      <th></th>\n",
       "      <th></th>\n",
       "      <th></th>\n",
       "    </tr>\n",
       "  </thead>\n",
       "  <tbody>\n",
       "    <tr>\n",
       "      <th>전국</th>\n",
       "      <td>726460</td>\n",
       "      <td>1072653</td>\n",
       "      <td>1211077</td>\n",
       "      <td>1211949</td>\n",
       "      <td>1524378</td>\n",
       "      <td>1823908</td>\n",
       "      <td>1737714</td>\n",
       "      <td>1684266</td>\n",
       "      <td>2055130</td>\n",
       "      <td>2039606</td>\n",
       "      <td>...</td>\n",
       "      <td>2052227</td>\n",
       "      <td>2097254</td>\n",
       "      <td>1554976</td>\n",
       "      <td>1038388</td>\n",
       "      <td>713448</td>\n",
       "      <td>507915</td>\n",
       "      <td>212726</td>\n",
       "      <td>54180</td>\n",
       "      <td>8880</td>\n",
       "      <td>1307</td>\n",
       "    </tr>\n",
       "  </tbody>\n",
       "</table>\n",
       "<p>1 rows × 21 columns</p>\n",
       "</div>"
      ],
      "text/plain": [
       "        0~4세     5~9세   10~14세   15~19세   20~24세   25~29세   30~34세   35~39세  \\\n",
       "행정기관                                                                          \n",
       "전국    726460  1072653  1211077  1211949  1524378  1823908  1737714  1684266   \n",
       "\n",
       "       40~44세   45~49세  ...   55~59세   60~64세   65~69세   70~74세  75~79세  \\\n",
       "행정기관                    ...                                               \n",
       "전국    2055130  2039606  ...  2052227  2097254  1554976  1038388  713448   \n",
       "\n",
       "      80~84세  85~89세  90~94세  95~99세  100세 이상  \n",
       "행정기관                                           \n",
       "전국    507915  212726   54180    8880     1307  \n",
       "\n",
       "[1 rows x 21 columns]"
      ]
     },
     "execution_count": 128,
     "metadata": {},
     "output_type": "execute_result"
    }
   ],
   "source": [
    "df\n"
   ]
  },
  {
   "cell_type": "code",
   "execution_count": 129,
   "metadata": {},
   "outputs": [
    {
     "name": "stdout",
     "output_type": "stream",
     "text": [
      "<class 'pandas.core.frame.DataFrame'>\n",
      "Index: 1 entries, 전국   to 전국  \n",
      "Data columns (total 21 columns):\n",
      " #   Column   Non-Null Count  Dtype\n",
      "---  ------   --------------  -----\n",
      " 0   0~4세     1 non-null      int32\n",
      " 1   5~9세     1 non-null      int32\n",
      " 2   10~14세   1 non-null      int32\n",
      " 3   15~19세   1 non-null      int32\n",
      " 4   20~24세   1 non-null      int32\n",
      " 5   25~29세   1 non-null      int32\n",
      " 6   30~34세   1 non-null      int32\n",
      " 7   35~39세   1 non-null      int32\n",
      " 8   40~44세   1 non-null      int32\n",
      " 9   45~49세   1 non-null      int32\n",
      " 10  50~54세   1 non-null      int32\n",
      " 11  55~59세   1 non-null      int32\n",
      " 12  60~64세   1 non-null      int32\n",
      " 13  65~69세   1 non-null      int32\n",
      " 14  70~74세   1 non-null      int32\n",
      " 15  75~79세   1 non-null      int32\n",
      " 16  80~84세   1 non-null      int32\n",
      " 17  85~89세   1 non-null      int32\n",
      " 18  90~94세   1 non-null      int32\n",
      " 19  95~99세   1 non-null      int32\n",
      " 20  100세 이상  1 non-null      int32\n",
      "dtypes: int32(21)\n",
      "memory usage: 92.0+ bytes\n"
     ]
    }
   ],
   "source": [
    "df.info()"
   ]
  },
  {
   "cell_type": "code",
   "execution_count": 130,
   "metadata": {},
   "outputs": [
    {
     "data": {
      "text/html": [
       "<div>\n",
       "<style scoped>\n",
       "    .dataframe tbody tr th:only-of-type {\n",
       "        vertical-align: middle;\n",
       "    }\n",
       "\n",
       "    .dataframe tbody tr th {\n",
       "        vertical-align: top;\n",
       "    }\n",
       "\n",
       "    .dataframe thead th {\n",
       "        text-align: right;\n",
       "    }\n",
       "</style>\n",
       "<table border=\"1\" class=\"dataframe\">\n",
       "  <thead>\n",
       "    <tr style=\"text-align: right;\">\n",
       "      <th></th>\n",
       "      <th>0~4세</th>\n",
       "      <th>5~9세</th>\n",
       "      <th>10~14세</th>\n",
       "      <th>15~19세</th>\n",
       "      <th>20~24세</th>\n",
       "      <th>25~29세</th>\n",
       "      <th>30~34세</th>\n",
       "      <th>35~39세</th>\n",
       "      <th>40~44세</th>\n",
       "      <th>45~49세</th>\n",
       "      <th>...</th>\n",
       "      <th>55~59세</th>\n",
       "      <th>60~64세</th>\n",
       "      <th>65~69세</th>\n",
       "      <th>70~74세</th>\n",
       "      <th>75~79세</th>\n",
       "      <th>80~84세</th>\n",
       "      <th>85~89세</th>\n",
       "      <th>90~94세</th>\n",
       "      <th>95~99세</th>\n",
       "      <th>100세 이상</th>\n",
       "    </tr>\n",
       "    <tr>\n",
       "      <th>행정기관</th>\n",
       "      <th></th>\n",
       "      <th></th>\n",
       "      <th></th>\n",
       "      <th></th>\n",
       "      <th></th>\n",
       "      <th></th>\n",
       "      <th></th>\n",
       "      <th></th>\n",
       "      <th></th>\n",
       "      <th></th>\n",
       "      <th></th>\n",
       "      <th></th>\n",
       "      <th></th>\n",
       "      <th></th>\n",
       "      <th></th>\n",
       "      <th></th>\n",
       "      <th></th>\n",
       "      <th></th>\n",
       "      <th></th>\n",
       "      <th></th>\n",
       "      <th></th>\n",
       "    </tr>\n",
       "  </thead>\n",
       "  <tbody>\n",
       "    <tr>\n",
       "      <th>전국</th>\n",
       "      <td>726460</td>\n",
       "      <td>1072653</td>\n",
       "      <td>1211077</td>\n",
       "      <td>1211949</td>\n",
       "      <td>1524378</td>\n",
       "      <td>1823908</td>\n",
       "      <td>1737714</td>\n",
       "      <td>1684266</td>\n",
       "      <td>2055130</td>\n",
       "      <td>2039606</td>\n",
       "      <td>...</td>\n",
       "      <td>2052227</td>\n",
       "      <td>2097254</td>\n",
       "      <td>1554976</td>\n",
       "      <td>1038388</td>\n",
       "      <td>713448</td>\n",
       "      <td>507915</td>\n",
       "      <td>212726</td>\n",
       "      <td>54180</td>\n",
       "      <td>8880</td>\n",
       "      <td>1307</td>\n",
       "    </tr>\n",
       "  </tbody>\n",
       "</table>\n",
       "<p>1 rows × 21 columns</p>\n",
       "</div>"
      ],
      "text/plain": [
       "        0~4세     5~9세   10~14세   15~19세   20~24세   25~29세   30~34세   35~39세  \\\n",
       "행정기관                                                                          \n",
       "전국    726460  1072653  1211077  1211949  1524378  1823908  1737714  1684266   \n",
       "\n",
       "       40~44세   45~49세  ...   55~59세   60~64세   65~69세   70~74세  75~79세  \\\n",
       "행정기관                    ...                                               \n",
       "전국    2055130  2039606  ...  2052227  2097254  1554976  1038388  713448   \n",
       "\n",
       "      80~84세  85~89세  90~94세  95~99세  100세 이상  \n",
       "행정기관                                           \n",
       "전국    507915  212726   54180    8880     1307  \n",
       "\n",
       "[1 rows x 21 columns]"
      ]
     },
     "execution_count": 130,
     "metadata": {},
     "output_type": "execute_result"
    }
   ],
   "source": [
    "df"
   ]
  },
  {
   "cell_type": "code",
   "execution_count": 131,
   "metadata": {},
   "outputs": [
    {
     "data": {
      "text/plain": [
       "행정기관\n",
       "전국      3010190\n",
       "Name: 0~14세, dtype: int32"
      ]
     },
     "execution_count": 131,
     "metadata": {},
     "output_type": "execute_result"
    }
   ],
   "source": [
    "df['0~14세'] = df.iloc[0,0]+df.iloc[0,1]+df.iloc[0,2]\n",
    "df['0~14세']"
   ]
  },
  {
   "cell_type": "code",
   "execution_count": 132,
   "metadata": {},
   "outputs": [
    {
     "data": {
      "text/plain": [
       "행정기관\n",
       "전국      3010190\n",
       "Name: 0~14세, dtype: int64"
      ]
     },
     "execution_count": 132,
     "metadata": {},
     "output_type": "execute_result"
    }
   ],
   "source": [
    "df['0~14세'] = df.iloc[0,:3].sum()\n",
    "df['0~14세']"
   ]
  },
  {
   "cell_type": "code",
   "execution_count": 133,
   "metadata": {},
   "outputs": [
    {
     "data": {
      "text/html": [
       "<div>\n",
       "<style scoped>\n",
       "    .dataframe tbody tr th:only-of-type {\n",
       "        vertical-align: middle;\n",
       "    }\n",
       "\n",
       "    .dataframe tbody tr th {\n",
       "        vertical-align: top;\n",
       "    }\n",
       "\n",
       "    .dataframe thead th {\n",
       "        text-align: right;\n",
       "    }\n",
       "</style>\n",
       "<table border=\"1\" class=\"dataframe\">\n",
       "  <thead>\n",
       "    <tr style=\"text-align: right;\">\n",
       "      <th></th>\n",
       "      <th>0~4세</th>\n",
       "      <th>5~9세</th>\n",
       "      <th>10~14세</th>\n",
       "      <th>15~19세</th>\n",
       "      <th>20~24세</th>\n",
       "      <th>25~29세</th>\n",
       "      <th>30~34세</th>\n",
       "      <th>35~39세</th>\n",
       "      <th>40~44세</th>\n",
       "      <th>45~49세</th>\n",
       "      <th>...</th>\n",
       "      <th>60~64세</th>\n",
       "      <th>65~69세</th>\n",
       "      <th>70~74세</th>\n",
       "      <th>75~79세</th>\n",
       "      <th>80~84세</th>\n",
       "      <th>85~89세</th>\n",
       "      <th>90~94세</th>\n",
       "      <th>95~99세</th>\n",
       "      <th>100세 이상</th>\n",
       "      <th>0~14세</th>\n",
       "    </tr>\n",
       "    <tr>\n",
       "      <th>행정기관</th>\n",
       "      <th></th>\n",
       "      <th></th>\n",
       "      <th></th>\n",
       "      <th></th>\n",
       "      <th></th>\n",
       "      <th></th>\n",
       "      <th></th>\n",
       "      <th></th>\n",
       "      <th></th>\n",
       "      <th></th>\n",
       "      <th></th>\n",
       "      <th></th>\n",
       "      <th></th>\n",
       "      <th></th>\n",
       "      <th></th>\n",
       "      <th></th>\n",
       "      <th></th>\n",
       "      <th></th>\n",
       "      <th></th>\n",
       "      <th></th>\n",
       "      <th></th>\n",
       "    </tr>\n",
       "  </thead>\n",
       "  <tbody>\n",
       "    <tr>\n",
       "      <th>전국</th>\n",
       "      <td>726460</td>\n",
       "      <td>1072653</td>\n",
       "      <td>1211077</td>\n",
       "      <td>1211949</td>\n",
       "      <td>1524378</td>\n",
       "      <td>1823908</td>\n",
       "      <td>1737714</td>\n",
       "      <td>1684266</td>\n",
       "      <td>2055130</td>\n",
       "      <td>2039606</td>\n",
       "      <td>...</td>\n",
       "      <td>2097254</td>\n",
       "      <td>1554976</td>\n",
       "      <td>1038388</td>\n",
       "      <td>713448</td>\n",
       "      <td>507915</td>\n",
       "      <td>212726</td>\n",
       "      <td>54180</td>\n",
       "      <td>8880</td>\n",
       "      <td>1307</td>\n",
       "      <td>3010190</td>\n",
       "    </tr>\n",
       "  </tbody>\n",
       "</table>\n",
       "<p>1 rows × 22 columns</p>\n",
       "</div>"
      ],
      "text/plain": [
       "        0~4세     5~9세   10~14세   15~19세   20~24세   25~29세   30~34세   35~39세  \\\n",
       "행정기관                                                                          \n",
       "전국    726460  1072653  1211077  1211949  1524378  1823908  1737714  1684266   \n",
       "\n",
       "       40~44세   45~49세  ...   60~64세   65~69세   70~74세  75~79세  80~84세  \\\n",
       "행정기관                    ...                                              \n",
       "전국    2055130  2039606  ...  2097254  1554976  1038388  713448  507915   \n",
       "\n",
       "      85~89세  90~94세  95~99세  100세 이상    0~14세  \n",
       "행정기관                                            \n",
       "전국    212726   54180    8880     1307  3010190  \n",
       "\n",
       "[1 rows x 22 columns]"
      ]
     },
     "execution_count": 133,
     "metadata": {},
     "output_type": "execute_result"
    }
   ],
   "source": [
    "df"
   ]
  },
  {
   "cell_type": "code",
   "execution_count": 138,
   "metadata": {},
   "outputs": [
    {
     "data": {
      "text/plain": [
       "행정기관\n",
       "전국      18529528.0\n",
       "Name: 15세~64세, dtype: float64"
      ]
     },
     "execution_count": 138,
     "metadata": {},
     "output_type": "execute_result"
    }
   ],
   "source": [
    "df['15세~64세'] = df.iloc[0,3:13].sum()\n",
    "df['15세~64세']"
   ]
  },
  {
   "cell_type": "code",
   "execution_count": 139,
   "metadata": {},
   "outputs": [
    {
     "data": {
      "text/plain": [
       "행정기관\n",
       "전국      25631538.0\n",
       "Name: 65세~100세, dtype: float64"
      ]
     },
     "execution_count": 139,
     "metadata": {},
     "output_type": "execute_result"
    }
   ],
   "source": [
    "df['65세~100세']= df.iloc[0,13:].sum()"
   ]
  },
  {
   "cell_type": "code",
   "execution_count": 149,
   "metadata": {},
   "outputs": [
    {
     "name": "stderr",
     "output_type": "stream",
     "text": [
      "C:\\Users\\KOREAVC\\AppData\\Local\\Temp\\ipykernel_8432\\2836402899.py:10: FutureWarning: Series.__getitem__ treating keys as positions is deprecated. In a future version, integer keys will always be treated as labels (consistent with DataFrame behavior). To access a value by position, use `ser.iloc[pos]`\n",
      "  plt.text(x[i],y1[i]+70,txt,ha='center')\n",
      "C:\\Users\\KOREAVC\\AppData\\Local\\Temp\\ipykernel_8432\\2836402899.py:13: FutureWarning: Series.__getitem__ treating keys as positions is deprecated. In a future version, integer keys will always be treated as labels (consistent with DataFrame behavior). To access a value by position, use `ser.iloc[pos]`\n",
      "  plt.text(x[i],y1[i]+y2[i]+70,txt,ha='center')\n",
      "C:\\Users\\KOREAVC\\AppData\\Local\\Temp\\ipykernel_8432\\2836402899.py:16: FutureWarning: Series.__getitem__ treating keys as positions is deprecated. In a future version, integer keys will always be treated as labels (consistent with DataFrame behavior). To access a value by position, use `ser.iloc[pos]`\n",
      "  plt.text(x[i],y1[i]+y2[i]+y3[i]+70,txt,ha='center')\n"
     ]
    },
    {
     "data": {
      "text/plain": [
       "<matplotlib.legend.Legend at 0x1d5ec10b110>"
      ]
     },
     "execution_count": 149,
     "metadata": {},
     "output_type": "execute_result"
    },
    {
     "data": {
      "image/png": "[encoded data removed]",
      "text/plain": [
       "<Figure size 640x480 with 1 Axes>"
      ]
     },
     "metadata": {},
     "output_type": "display_data"
    }
   ],
   "source": [
    "x = ['1월']\n",
    "y1 = df['0~14세']\n",
    "y2 = df['15세~64세']\n",
    "y3 = df['65세~100세']\n",
    "\n",
    "plt.bar(x,y1,label='0~14세' ,width=0.2)\n",
    "plt.bar(x,y2,bottom=y1,label='5세~64세' ,width=0.2)\n",
    "plt.bar(x,y3,bottom=y1+y2,label='65세~100세' ,width=0.2)\n",
    "for i , txt in enumerate(y1):\n",
    "     plt.text(x[i],y1[i]+70,txt,ha='center')\n",
    "     \n",
    "for i , txt in enumerate(y2):\n",
    "     plt.text(x[i],y1[i]+y2[i]+70,txt,ha='center')\n",
    "\n",
    "for i, txt in enumerate(y3):\n",
    "     plt.text(x[i],y1[i]+y2[i]+y3[i]+70,txt,ha='center')\n",
    "\n",
    "plt.legend(loc='upper center',ncol=3)"
   ]
  }
 ],
 "metadata": {
  "kernelspec": {
   "display_name": "Python 3",
   "language": "python",
   "name": "python3"
  },
  "language_info": {
   "codemirror_mode": {
    "name": "ipython",
    "version": 3
   },
   "file_extension": ".py",
   "mimetype": "text/x-python",
   "name": "python",
   "nbconvert_exporter": "python",
   "pygments_lexer": "ipython3",
   "version": "3.12.2"
  }
 },
 "nbformat": 4,
 "nbformat_minor": 2
}
