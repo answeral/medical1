{
 "cells": [
  {
   "cell_type": "code",
   "execution_count": 395,
   "metadata": {},
   "outputs": [],
   "source": [
    "import matplotlib.pyplot as plt\n",
    "import matplotlib\n",
    "import numpy as np\n",
    "import pandas as pd\n",
    "matplotlib.rcParams['font.family'] = 'Malgun Gothic'\n",
    "matplotlib.rcParams['font.size'] = 10\n",
    "matplotlib.rcParams['axes.unicode_minus'] = False"
   ]
  },
  {
   "cell_type": "code",
   "execution_count": 396,
   "metadata": {},
   "outputs": [
    {
     "data": {
      "text/html": [
       "<div>\n",
       "<style scoped>\n",
       "    .dataframe tbody tr th:only-of-type {\n",
       "        vertical-align: middle;\n",
       "    }\n",
       "\n",
       "    .dataframe tbody tr th {\n",
       "        vertical-align: top;\n",
       "    }\n",
       "\n",
       "    .dataframe thead th {\n",
       "        text-align: right;\n",
       "    }\n",
       "</style>\n",
       "<table border=\"1\" class=\"dataframe\">\n",
       "  <thead>\n",
       "    <tr style=\"text-align: right;\">\n",
       "      <th></th>\n",
       "      <th>0~4세</th>\n",
       "      <th>5~9세</th>\n",
       "      <th>10~14세</th>\n",
       "      <th>15~19세</th>\n",
       "      <th>20~24세</th>\n",
       "      <th>25~29세</th>\n",
       "      <th>30~34세</th>\n",
       "      <th>35~39세</th>\n",
       "      <th>40~44세</th>\n",
       "      <th>45~49세</th>\n",
       "      <th>...</th>\n",
       "      <th>55~59세</th>\n",
       "      <th>60~64세</th>\n",
       "      <th>65~69세</th>\n",
       "      <th>70~74세</th>\n",
       "      <th>75~79세</th>\n",
       "      <th>80~84세</th>\n",
       "      <th>85~89세</th>\n",
       "      <th>90~94세</th>\n",
       "      <th>95~99세</th>\n",
       "      <th>100세 이상</th>\n",
       "    </tr>\n",
       "    <tr>\n",
       "      <th>행정기관</th>\n",
       "      <th></th>\n",
       "      <th></th>\n",
       "      <th></th>\n",
       "      <th></th>\n",
       "      <th></th>\n",
       "      <th></th>\n",
       "      <th></th>\n",
       "      <th></th>\n",
       "      <th></th>\n",
       "      <th></th>\n",
       "      <th></th>\n",
       "      <th></th>\n",
       "      <th></th>\n",
       "      <th></th>\n",
       "      <th></th>\n",
       "      <th></th>\n",
       "      <th></th>\n",
       "      <th></th>\n",
       "      <th></th>\n",
       "      <th></th>\n",
       "      <th></th>\n",
       "    </tr>\n",
       "  </thead>\n",
       "  <tbody>\n",
       "    <tr>\n",
       "      <th>전국</th>\n",
       "      <td>726,460</td>\n",
       "      <td>1,072,653</td>\n",
       "      <td>1,211,077</td>\n",
       "      <td>1,211,949</td>\n",
       "      <td>1,524,378</td>\n",
       "      <td>1,823,908</td>\n",
       "      <td>1,737,714</td>\n",
       "      <td>1,684,266</td>\n",
       "      <td>2,055,130</td>\n",
       "      <td>2,039,606</td>\n",
       "      <td>...</td>\n",
       "      <td>2,052,227</td>\n",
       "      <td>2,097,254</td>\n",
       "      <td>1,554,976</td>\n",
       "      <td>1,038,388</td>\n",
       "      <td>713,448</td>\n",
       "      <td>507,915</td>\n",
       "      <td>212,726</td>\n",
       "      <td>54,180</td>\n",
       "      <td>8,880</td>\n",
       "      <td>1,307</td>\n",
       "    </tr>\n",
       "    <tr>\n",
       "      <th>서울특별시</th>\n",
       "      <td>116,614</td>\n",
       "      <td>161,429</td>\n",
       "      <td>185,689</td>\n",
       "      <td>197,425</td>\n",
       "      <td>271,237</td>\n",
       "      <td>390,716</td>\n",
       "      <td>379,852</td>\n",
       "      <td>332,153</td>\n",
       "      <td>363,795</td>\n",
       "      <td>352,011</td>\n",
       "      <td>...</td>\n",
       "      <td>338,380</td>\n",
       "      <td>343,434</td>\n",
       "      <td>271,757</td>\n",
       "      <td>188,172</td>\n",
       "      <td>136,287</td>\n",
       "      <td>93,848</td>\n",
       "      <td>36,511</td>\n",
       "      <td>9,411</td>\n",
       "      <td>1,703</td>\n",
       "      <td>276</td>\n",
       "    </tr>\n",
       "    <tr>\n",
       "      <th>부산광역시</th>\n",
       "      <td>41,333</td>\n",
       "      <td>63,912</td>\n",
       "      <td>68,919</td>\n",
       "      <td>67,836</td>\n",
       "      <td>93,245</td>\n",
       "      <td>109,745</td>\n",
       "      <td>103,536</td>\n",
       "      <td>99,530</td>\n",
       "      <td>127,544</td>\n",
       "      <td>121,660</td>\n",
       "      <td>...</td>\n",
       "      <td>126,702</td>\n",
       "      <td>143,246</td>\n",
       "      <td>119,500</td>\n",
       "      <td>83,807</td>\n",
       "      <td>55,948</td>\n",
       "      <td>36,851</td>\n",
       "      <td>13,453</td>\n",
       "      <td>3,103</td>\n",
       "      <td>420</td>\n",
       "      <td>72</td>\n",
       "    </tr>\n",
       "  </tbody>\n",
       "</table>\n",
       "<p>3 rows × 21 columns</p>\n",
       "</div>"
      ],
      "text/plain": [
       "            0~4세       5~9세     10~14세     15~19세     20~24세     25~29세  \\\n",
       "행정기관                                                                      \n",
       "전국       726,460  1,072,653  1,211,077  1,211,949  1,524,378  1,823,908   \n",
       "서울특별시    116,614    161,429    185,689    197,425    271,237    390,716   \n",
       "부산광역시     41,333     63,912     68,919     67,836     93,245    109,745   \n",
       "\n",
       "            30~34세     35~39세     40~44세     45~49세  ...     55~59세  \\\n",
       "행정기관                                                 ...              \n",
       "전국       1,737,714  1,684,266  2,055,130  2,039,606  ...  2,052,227   \n",
       "서울특별시      379,852    332,153    363,795    352,011  ...    338,380   \n",
       "부산광역시      103,536     99,530    127,544    121,660  ...    126,702   \n",
       "\n",
       "            60~64세     65~69세     70~74세   75~79세   80~84세   85~89세  90~94세  \\\n",
       "행정기관                                                                          \n",
       "전국       2,097,254  1,554,976  1,038,388  713,448  507,915  212,726  54,180   \n",
       "서울특별시      343,434    271,757    188,172  136,287   93,848   36,511   9,411   \n",
       "부산광역시      143,246    119,500     83,807   55,948   36,851   13,453   3,103   \n",
       "\n",
       "        95~99세 100세 이상  \n",
       "행정기관                    \n",
       "전국       8,880   1,307  \n",
       "서울특별시    1,703     276  \n",
       "부산광역시      420      72  \n",
       "\n",
       "[3 rows x 21 columns]"
      ]
     },
     "execution_count": 396,
     "metadata": {},
     "output_type": "execute_result"
    }
   ],
   "source": [
    "df = pd.read_excel('../z20_data/20230104_연령별인구현황2.xlsx',skiprows=3,nrows=5,\n",
    "                   index_col='행정기관',usecols='B,E:Y')\n",
    "df.head(3)"
   ]
  },
  {
   "cell_type": "code",
   "execution_count": 397,
   "metadata": {},
   "outputs": [
    {
     "data": {
      "text/html": [
       "<div>\n",
       "<style scoped>\n",
       "    .dataframe tbody tr th:only-of-type {\n",
       "        vertical-align: middle;\n",
       "    }\n",
       "\n",
       "    .dataframe tbody tr th {\n",
       "        vertical-align: top;\n",
       "    }\n",
       "\n",
       "    .dataframe thead th {\n",
       "        text-align: right;\n",
       "    }\n",
       "</style>\n",
       "<table border=\"1\" class=\"dataframe\">\n",
       "  <thead>\n",
       "    <tr style=\"text-align: right;\">\n",
       "      <th></th>\n",
       "      <th>0~4세.1</th>\n",
       "      <th>5~9세.1</th>\n",
       "      <th>10~14세.1</th>\n",
       "      <th>15~19세.1</th>\n",
       "      <th>20~24세.1</th>\n",
       "      <th>25~29세.1</th>\n",
       "      <th>30~34세.1</th>\n",
       "      <th>35~39세.1</th>\n",
       "      <th>40~44세.1</th>\n",
       "      <th>45~49세.1</th>\n",
       "      <th>...</th>\n",
       "      <th>55~59세.1</th>\n",
       "      <th>60~64세.1</th>\n",
       "      <th>65~69세.1</th>\n",
       "      <th>70~74세.1</th>\n",
       "      <th>75~79세.1</th>\n",
       "      <th>80~84세.1</th>\n",
       "      <th>85~89세.1</th>\n",
       "      <th>90~94세.1</th>\n",
       "      <th>95~99세.1</th>\n",
       "      <th>100세 이상.1</th>\n",
       "    </tr>\n",
       "    <tr>\n",
       "      <th>행정기관</th>\n",
       "      <th></th>\n",
       "      <th></th>\n",
       "      <th></th>\n",
       "      <th></th>\n",
       "      <th></th>\n",
       "      <th></th>\n",
       "      <th></th>\n",
       "      <th></th>\n",
       "      <th></th>\n",
       "      <th></th>\n",
       "      <th></th>\n",
       "      <th></th>\n",
       "      <th></th>\n",
       "      <th></th>\n",
       "      <th></th>\n",
       "      <th></th>\n",
       "      <th></th>\n",
       "      <th></th>\n",
       "      <th></th>\n",
       "      <th></th>\n",
       "      <th></th>\n",
       "    </tr>\n",
       "  </thead>\n",
       "  <tbody>\n",
       "    <tr>\n",
       "      <th>전국</th>\n",
       "      <td>691045</td>\n",
       "      <td>1020598</td>\n",
       "      <td>1144645</td>\n",
       "      <td>1134811</td>\n",
       "      <td>1402493</td>\n",
       "      <td>1642682</td>\n",
       "      <td>1579871</td>\n",
       "      <td>1598401</td>\n",
       "      <td>1980502</td>\n",
       "      <td>1990483</td>\n",
       "      <td>...</td>\n",
       "      <td>2017243</td>\n",
       "      <td>2132394</td>\n",
       "      <td>1649709</td>\n",
       "      <td>1174486</td>\n",
       "      <td>908877</td>\n",
       "      <td>802501</td>\n",
       "      <td>459932</td>\n",
       "      <td>177039</td>\n",
       "      <td>39806</td>\n",
       "      <td>6604</td>\n",
       "    </tr>\n",
       "    <tr>\n",
       "      <th>서울특별시</th>\n",
       "      <td>109390</td>\n",
       "      <td>154162</td>\n",
       "      <td>176096</td>\n",
       "      <td>189009</td>\n",
       "      <td>304285</td>\n",
       "      <td>418972</td>\n",
       "      <td>379071</td>\n",
       "      <td>333112</td>\n",
       "      <td>368850</td>\n",
       "      <td>362938</td>\n",
       "      <td>...</td>\n",
       "      <td>352068</td>\n",
       "      <td>375498</td>\n",
       "      <td>310677</td>\n",
       "      <td>221007</td>\n",
       "      <td>169985</td>\n",
       "      <td>127276</td>\n",
       "      <td>66321</td>\n",
       "      <td>25368</td>\n",
       "      <td>6162</td>\n",
       "      <td>1043</td>\n",
       "    </tr>\n",
       "    <tr>\n",
       "      <th>부산광역시</th>\n",
       "      <td>39356</td>\n",
       "      <td>60582</td>\n",
       "      <td>65329</td>\n",
       "      <td>64001</td>\n",
       "      <td>88307</td>\n",
       "      <td>102363</td>\n",
       "      <td>96466</td>\n",
       "      <td>95847</td>\n",
       "      <td>123903</td>\n",
       "      <td>120997</td>\n",
       "      <td>...</td>\n",
       "      <td>135400</td>\n",
       "      <td>160060</td>\n",
       "      <td>134634</td>\n",
       "      <td>99254</td>\n",
       "      <td>70537</td>\n",
       "      <td>56380</td>\n",
       "      <td>28523</td>\n",
       "      <td>10347</td>\n",
       "      <td>2375</td>\n",
       "      <td>337</td>\n",
       "    </tr>\n",
       "  </tbody>\n",
       "</table>\n",
       "<p>3 rows × 21 columns</p>\n",
       "</div>"
      ],
      "text/plain": [
       "         0~4세.1   5~9세.1  10~14세.1  15~19세.1  20~24세.1  25~29세.1  30~34세.1  \\\n",
       "행정기관                                                                         \n",
       "전국       691045  1020598   1144645   1134811   1402493   1642682   1579871   \n",
       "서울특별시    109390   154162    176096    189009    304285    418972    379071   \n",
       "부산광역시     39356    60582     65329     64001     88307    102363     96466   \n",
       "\n",
       "         35~39세.1  40~44세.1  45~49세.1  ...  55~59세.1  60~64세.1  65~69세.1  \\\n",
       "행정기관                                   ...                                 \n",
       "전국        1598401   1980502   1990483  ...   2017243   2132394   1649709   \n",
       "서울특별시      333112    368850    362938  ...    352068    375498    310677   \n",
       "부산광역시       95847    123903    120997  ...    135400    160060    134634   \n",
       "\n",
       "         70~74세.1  75~79세.1  80~84세.1  85~89세.1  90~94세.1  95~99세.1  100세 이상.1  \n",
       "행정기관                                                                            \n",
       "전국        1174486    908877    802501    459932    177039     39806       6604  \n",
       "서울특별시      221007    169985    127276     66321     25368      6162       1043  \n",
       "부산광역시       99254     70537     56380     28523     10347      2375        337  \n",
       "\n",
       "[3 rows x 21 columns]"
      ]
     },
     "execution_count": 397,
     "metadata": {},
     "output_type": "execute_result"
    }
   ],
   "source": [
    "df1 = pd.read_excel('../z20_data/20230104_연령별인구현황2.xlsx',skiprows=3,nrows=5,\n",
    "                   thousands=',',index_col='행정기관',usecols='B,AB:AV')\n",
    "df1.head(3)"
   ]
  },
  {
   "cell_type": "markdown",
   "metadata": {},
   "source": [
    "연령별 인구현황\n",
    "* 2023년 1월 연령별 인구수를 가로막대그래프로 출력하시오\n",
    "* - 남자범위 : usecols='B,E:Y',여자범위 : usecols='B,AB:AV'\n"
   ]
  },
  {
   "cell_type": "code",
   "execution_count": 398,
   "metadata": {},
   "outputs": [
    {
     "data": {
      "text/plain": [
       "<bound method NDFrame.describe of             0~4세       5~9세     10~14세     15~19세     20~24세     25~29세  \\\n",
       "행정기관                                                                      \n",
       "전국       726,460  1,072,653  1,211,077  1,211,949  1,524,378  1,823,908   \n",
       "서울특별시    116,614    161,429    185,689    197,425    271,237    390,716   \n",
       "부산광역시     41,333     63,912     68,919     67,836     93,245    109,745   \n",
       "대구광역시     31,269     49,000     55,029     57,661     74,228     81,001   \n",
       "인천광역시     43,664     63,028     70,593     69,580     86,548    108,831   \n",
       "\n",
       "            30~34세     35~39세     40~44세     45~49세  ...     55~59세  \\\n",
       "행정기관                                                 ...              \n",
       "전국       1,737,714  1,684,266  2,055,130  2,039,606  ...  2,052,227   \n",
       "서울특별시      379,852    332,153    363,795    352,011  ...    338,380   \n",
       "부산광역시      103,536     99,530    127,544    121,660  ...    126,702   \n",
       "대구광역시       76,198     71,455     87,860     91,327  ...     96,673   \n",
       "인천광역시      107,658    102,829    126,090    121,064  ...    121,717   \n",
       "\n",
       "            60~64세     65~69세     70~74세   75~79세   80~84세   85~89세  90~94세  \\\n",
       "행정기관                                                                          \n",
       "전국       2,097,254  1,554,976  1,038,388  713,448  507,915  212,726  54,180   \n",
       "서울특별시      343,434    271,757    188,172  136,287   93,848   36,511   9,411   \n",
       "부산광역시      143,246    119,500     83,807   55,948   36,851   13,453   3,103   \n",
       "대구광역시       96,632     71,324     49,675   31,508   23,021    9,435   2,197   \n",
       "인천광역시      124,470     84,563     52,236   35,223   22,843    9,444   2,410   \n",
       "\n",
       "        95~99세 100세 이상  \n",
       "행정기관                    \n",
       "전국       8,880   1,307  \n",
       "서울특별시    1,703     276  \n",
       "부산광역시      420      72  \n",
       "대구광역시      299      25  \n",
       "인천광역시      482      82  \n",
       "\n",
       "[5 rows x 21 columns]>"
      ]
     },
     "execution_count": 398,
     "metadata": {},
     "output_type": "execute_result"
    }
   ],
   "source": [
    "df.describe"
   ]
  },
  {
   "cell_type": "code",
   "execution_count": 399,
   "metadata": {},
   "outputs": [
    {
     "name": "stdout",
     "output_type": "stream",
     "text": [
      "<class 'pandas.core.frame.DataFrame'>\n",
      "Index: 5 entries, 전국   to 인천광역시  \n",
      "Data columns (total 21 columns):\n",
      " #   Column   Non-Null Count  Dtype \n",
      "---  ------   --------------  ----- \n",
      " 0   0~4세     5 non-null      object\n",
      " 1   5~9세     5 non-null      object\n",
      " 2   10~14세   5 non-null      object\n",
      " 3   15~19세   5 non-null      object\n",
      " 4   20~24세   5 non-null      object\n",
      " 5   25~29세   5 non-null      object\n",
      " 6   30~34세   5 non-null      object\n",
      " 7   35~39세   5 non-null      object\n",
      " 8   40~44세   5 non-null      object\n",
      " 9   45~49세   5 non-null      object\n",
      " 10  50~54세   5 non-null      object\n",
      " 11  55~59세   5 non-null      object\n",
      " 12  60~64세   5 non-null      object\n",
      " 13  65~69세   5 non-null      object\n",
      " 14  70~74세   5 non-null      object\n",
      " 15  75~79세   5 non-null      object\n",
      " 16  80~84세   5 non-null      object\n",
      " 17  85~89세   5 non-null      object\n",
      " 18  90~94세   5 non-null      object\n",
      " 19  95~99세   5 non-null      object\n",
      " 20  100세 이상  5 non-null      object\n",
      "dtypes: object(21)\n",
      "memory usage: 880.0+ bytes\n"
     ]
    },
    {
     "data": {
      "text/plain": [
       "행정기관\n",
       "전국         1,072,653\n",
       "서울특별시        161,429\n",
       "부산광역시         63,912\n",
       "대구광역시         49,000\n",
       "인천광역시         63,028\n",
       "Name: 5~9세, dtype: object"
      ]
     },
     "execution_count": 399,
     "metadata": {},
     "output_type": "execute_result"
    }
   ],
   "source": [
    "df.info()\n",
    "\n",
    "df.shape[1]\n",
    "df[df.columns[1]]"
   ]
  },
  {
   "cell_type": "code",
   "execution_count": 400,
   "metadata": {},
   "outputs": [],
   "source": [
    "for i in range(df.shape[1]):\n",
    "     df[df.columns[i]]=df[df.columns[i]].str.replace(\",\",\"\").astype(int)"
   ]
  },
  {
   "cell_type": "code",
   "execution_count": null,
   "metadata": {},
   "outputs": [],
   "source": []
  },
  {
   "cell_type": "code",
   "execution_count": 401,
   "metadata": {},
   "outputs": [
    {
     "data": {
      "text/plain": [
       "Index(['0~4세', '5~9세', '10~14세', '15~19세', '20~24세', '25~29세', '30~34세',\n",
       "       '35~39세', '40~44세', '45~49세', '50~54세', '55~59세', '60~64세', '65~69세',\n",
       "       '70~74세', '75~79세', '80~84세', '85~89세', '90~94세', '95~99세', '100세 이상'],\n",
       "      dtype='object')"
      ]
     },
     "execution_count": 401,
     "metadata": {},
     "output_type": "execute_result"
    }
   ],
   "source": [
    "df.columns"
   ]
  },
  {
   "cell_type": "code",
   "execution_count": 402,
   "metadata": {},
   "outputs": [
    {
     "data": {
      "text/plain": [
       "'0~4세'"
      ]
     },
     "execution_count": 402,
     "metadata": {},
     "output_type": "execute_result"
    }
   ],
   "source": [
    "df.columns[0]"
   ]
  },
  {
   "cell_type": "code",
   "execution_count": 403,
   "metadata": {},
   "outputs": [
    {
     "data": {
      "text/plain": [
       "Index(['0~4세.1', '5~9세.1', '10~14세.1', '15~19세.1', '20~24세.1', '25~29세.1',\n",
       "       '30~34세.1', '35~39세.1', '40~44세.1', '45~49세.1', '50~54세.1', '55~59세.1',\n",
       "       '60~64세.1', '65~69세.1', '70~74세.1', '75~79세.1', '80~84세.1', '85~89세.1',\n",
       "       '90~94세.1', '95~99세.1', '100세 이상.1'],\n",
       "      dtype='object')"
      ]
     },
     "execution_count": 403,
     "metadata": {},
     "output_type": "execute_result"
    }
   ],
   "source": [
    "df1.columns"
   ]
  },
  {
   "cell_type": "code",
   "execution_count": 404,
   "metadata": {},
   "outputs": [
    {
     "data": {
      "text/plain": [
       "691045"
      ]
     },
     "execution_count": 404,
     "metadata": {},
     "output_type": "execute_result"
    }
   ],
   "source": [
    "df['0~4세'].index #'전국  ', '서울특별시  ', '부산광역시  ', '대구광역시  ', '인천광역시\n",
    "df['0~4세'].values[0]\n",
    "df1['0~4세.1'].values[0]"
   ]
  },
  {
   "cell_type": "code",
   "execution_count": 405,
   "metadata": {},
   "outputs": [],
   "source": [
    "x = df.columns[0]\n",
    "y = df['0~4세'].values[0]\n",
    "y1 = df1['0~4세.1'].values[0]\n",
    "\n",
    "x2 = df.columns[1]\n",
    "y2 = df['5~9세'].values[0]\n",
    "y3 = df1['5~9세.1'].values[1]\n",
    "\n",
    "x3 = df.columns[2]\n",
    "y3= df['10~14세'].values[0]"
   ]
  },
  {
   "cell_type": "code",
   "execution_count": 406,
   "metadata": {},
   "outputs": [
    {
     "data": {
      "text/plain": [
       "691045"
      ]
     },
     "execution_count": 406,
     "metadata": {},
     "output_type": "execute_result"
    }
   ],
   "source": [
    "df1['0~4세.1'].values[0]"
   ]
  },
  {
   "cell_type": "code",
   "execution_count": 407,
   "metadata": {},
   "outputs": [
    {
     "data": {
      "text/plain": [
       "<matplotlib.legend.Legend at 0x11584db84a0>"
      ]
     },
     "execution_count": 407,
     "metadata": {},
     "output_type": "execute_result"
    },
    {
     "data": {
      "image/png": "[encoded data removed]",
      "text/plain": [
       "<Figure size 640x480 with 1 Axes>"
      ]
     },
     "metadata": {},
     "output_type": "display_data"
    }
   ],
   "source": [
    "plt.barh(x,y,label='남자1')\n",
    "# plt.barh(x,y2,label='여자1')\n",
    "plt.barh(x2,y2,label='남자2')\n",
    "# plt.barh(x2,y3,label='여자2')\n",
    "plt.barh(x3,y3,label='남자3')\n",
    "\n",
    "plt.legend()\n"
   ]
  },
  {
   "cell_type": "code",
   "execution_count": 408,
   "metadata": {},
   "outputs": [
    {
     "name": "stdout",
     "output_type": "stream",
     "text": [
      "<class 'pandas.core.frame.DataFrame'>\n",
      "Index: 5 entries, 전국   to 인천광역시  \n",
      "Data columns (total 21 columns):\n",
      " #   Column     Non-Null Count  Dtype\n",
      "---  ------     --------------  -----\n",
      " 0   0~4세.1     5 non-null      int64\n",
      " 1   5~9세.1     5 non-null      int64\n",
      " 2   10~14세.1   5 non-null      int64\n",
      " 3   15~19세.1   5 non-null      int64\n",
      " 4   20~24세.1   5 non-null      int64\n",
      " 5   25~29세.1   5 non-null      int64\n",
      " 6   30~34세.1   5 non-null      int64\n",
      " 7   35~39세.1   5 non-null      int64\n",
      " 8   40~44세.1   5 non-null      int64\n",
      " 9   45~49세.1   5 non-null      int64\n",
      " 10  50~54세.1   5 non-null      int64\n",
      " 11  55~59세.1   5 non-null      int64\n",
      " 12  60~64세.1   5 non-null      int64\n",
      " 13  65~69세.1   5 non-null      int64\n",
      " 14  70~74세.1   5 non-null      int64\n",
      " 15  75~79세.1   5 non-null      int64\n",
      " 16  80~84세.1   5 non-null      int64\n",
      " 17  85~89세.1   5 non-null      int64\n",
      " 18  90~94세.1   5 non-null      int64\n",
      " 19  95~99세.1   5 non-null      int64\n",
      " 20  100세 이상.1  5 non-null      int64\n",
      "dtypes: int64(21)\n",
      "memory usage: 880.0+ bytes\n"
     ]
    }
   ],
   "source": [
    "df1.info()"
   ]
  },
  {
   "cell_type": "code",
   "execution_count": 409,
   "metadata": {},
   "outputs": [],
   "source": [
    "# 여자 데이터, 남자 데이터 컬럼명 통일\n",
    "df1.columns = df.columns"
   ]
  },
  {
   "cell_type": "code",
   "execution_count": 410,
   "metadata": {},
   "outputs": [
    {
     "data": {
      "text/plain": [
       "array([ 726460, 1072653, 1211077, 1211949, 1524378, 1823908, 1737714,\n",
       "       1684266, 2055130, 2039606, 2303096, 2052227, 2097254, 1554976,\n",
       "       1038388,  713448,  507915,  212726,   54180,    8880,    1307])"
      ]
     },
     "execution_count": 410,
     "metadata": {},
     "output_type": "execute_result"
    }
   ],
   "source": [
    "df.iloc[0].values"
   ]
  },
  {
   "cell_type": "code",
   "execution_count": 411,
   "metadata": {},
   "outputs": [
    {
     "data": {
      "image/png": "[encoded data removed]",
      "text/plain": [
       "<Figure size 640x480 with 1 Axes>"
      ]
     },
     "metadata": {},
     "output_type": "display_data"
    }
   ],
   "source": [
    "x = df.columns\n",
    "y = df.iloc[0]//1000\n",
    "plt.barh(x,-y,label='남자1')\n",
    "\n",
    "x1 = df1.columns\n",
    "y1 = df1.iloc[0]//1000\n",
    "plt.barh(x1,y1,label='여자1')\n",
    "plt.legend()\n",
    "\n",
    "plt.show()"
   ]
  },
  {
   "cell_type": "code",
   "execution_count": 412,
   "metadata": {},
   "outputs": [
    {
     "data": {
      "text/plain": [
       "726460"
      ]
     },
     "execution_count": 412,
     "metadata": {},
     "output_type": "execute_result"
    }
   ],
   "source": [
    "df.iloc[0,0]"
   ]
  },
  {
   "cell_type": "code",
   "execution_count": 413,
   "metadata": {},
   "outputs": [
    {
     "data": {
      "text/html": [
       "<div>\n",
       "<style scoped>\n",
       "    .dataframe tbody tr th:only-of-type {\n",
       "        vertical-align: middle;\n",
       "    }\n",
       "\n",
       "    .dataframe tbody tr th {\n",
       "        vertical-align: top;\n",
       "    }\n",
       "\n",
       "    .dataframe thead th {\n",
       "        text-align: right;\n",
       "    }\n",
       "</style>\n",
       "<table border=\"1\" class=\"dataframe\">\n",
       "  <thead>\n",
       "    <tr style=\"text-align: right;\">\n",
       "      <th></th>\n",
       "      <th>총 인구수</th>\n",
       "      <th>연령구간인구수.2</th>\n",
       "      <th>0~4세.2</th>\n",
       "      <th>5~9세.2</th>\n",
       "      <th>10~14세.2</th>\n",
       "      <th>15~19세.2</th>\n",
       "      <th>20~24세.2</th>\n",
       "      <th>25~29세.2</th>\n",
       "      <th>30~34세.2</th>\n",
       "      <th>35~39세.2</th>\n",
       "      <th>...</th>\n",
       "      <th>55~59세.2</th>\n",
       "      <th>60~64세.2</th>\n",
       "      <th>65~69세.2</th>\n",
       "      <th>70~74세.2</th>\n",
       "      <th>75~79세.2</th>\n",
       "      <th>80~84세.2</th>\n",
       "      <th>85~89세.2</th>\n",
       "      <th>90~94세.2</th>\n",
       "      <th>95~99세.2</th>\n",
       "      <th>100세 이상.2</th>\n",
       "    </tr>\n",
       "    <tr>\n",
       "      <th>행정기관</th>\n",
       "      <th></th>\n",
       "      <th></th>\n",
       "      <th></th>\n",
       "      <th></th>\n",
       "      <th></th>\n",
       "      <th></th>\n",
       "      <th></th>\n",
       "      <th></th>\n",
       "      <th></th>\n",
       "      <th></th>\n",
       "      <th></th>\n",
       "      <th></th>\n",
       "      <th></th>\n",
       "      <th></th>\n",
       "      <th></th>\n",
       "      <th></th>\n",
       "      <th></th>\n",
       "      <th></th>\n",
       "      <th></th>\n",
       "      <th></th>\n",
       "      <th></th>\n",
       "    </tr>\n",
       "  </thead>\n",
       "  <tbody>\n",
       "    <tr>\n",
       "      <th>전국</th>\n",
       "      <td>25626211</td>\n",
       "      <td>25626211</td>\n",
       "      <td>722848</td>\n",
       "      <td>1067962</td>\n",
       "      <td>1210328</td>\n",
       "      <td>1210202</td>\n",
       "      <td>1516184</td>\n",
       "      <td>1816653</td>\n",
       "      <td>1738039</td>\n",
       "      <td>1676299</td>\n",
       "      <td>...</td>\n",
       "      <td>2054837</td>\n",
       "      <td>2102187</td>\n",
       "      <td>1563546</td>\n",
       "      <td>1039913</td>\n",
       "      <td>714082</td>\n",
       "      <td>513601</td>\n",
       "      <td>214782</td>\n",
       "      <td>54804</td>\n",
       "      <td>9005</td>\n",
       "      <td>1391</td>\n",
       "    </tr>\n",
       "    <tr>\n",
       "      <th>서울특별시</th>\n",
       "      <td>4567957</td>\n",
       "      <td>4567957</td>\n",
       "      <td>115991</td>\n",
       "      <td>160533</td>\n",
       "      <td>185566</td>\n",
       "      <td>197895</td>\n",
       "      <td>271775</td>\n",
       "      <td>389347</td>\n",
       "      <td>380056</td>\n",
       "      <td>330941</td>\n",
       "      <td>...</td>\n",
       "      <td>338582</td>\n",
       "      <td>343704</td>\n",
       "      <td>272726</td>\n",
       "      <td>188291</td>\n",
       "      <td>136396</td>\n",
       "      <td>94959</td>\n",
       "      <td>36935</td>\n",
       "      <td>9479</td>\n",
       "      <td>1706</td>\n",
       "      <td>290</td>\n",
       "    </tr>\n",
       "    <tr>\n",
       "      <th>부산광역시</th>\n",
       "      <td>1618202</td>\n",
       "      <td>1618202</td>\n",
       "      <td>41110</td>\n",
       "      <td>63772</td>\n",
       "      <td>68959</td>\n",
       "      <td>67742</td>\n",
       "      <td>93251</td>\n",
       "      <td>108985</td>\n",
       "      <td>103609</td>\n",
       "      <td>98894</td>\n",
       "      <td>...</td>\n",
       "      <td>126648</td>\n",
       "      <td>143240</td>\n",
       "      <td>119913</td>\n",
       "      <td>84000</td>\n",
       "      <td>55802</td>\n",
       "      <td>37497</td>\n",
       "      <td>13604</td>\n",
       "      <td>3130</td>\n",
       "      <td>432</td>\n",
       "      <td>72</td>\n",
       "    </tr>\n",
       "  </tbody>\n",
       "</table>\n",
       "<p>3 rows × 23 columns</p>\n",
       "</div>"
      ],
      "text/plain": [
       "            총 인구수  연령구간인구수.2  0~4세.2   5~9세.2  10~14세.2  15~19세.2  20~24세.2  \\\n",
       "행정기관                                                                          \n",
       "전국       25626211   25626211  722848  1067962   1210328   1210202   1516184   \n",
       "서울특별시     4567957    4567957  115991   160533    185566    197895    271775   \n",
       "부산광역시     1618202    1618202   41110    63772     68959     67742     93251   \n",
       "\n",
       "         25~29세.2  30~34세.2  35~39세.2  ...  55~59세.2  60~64세.2  65~69세.2  \\\n",
       "행정기관                                   ...                                 \n",
       "전국        1816653   1738039   1676299  ...   2054837   2102187   1563546   \n",
       "서울특별시      389347    380056    330941  ...    338582    343704    272726   \n",
       "부산광역시      108985    103609     98894  ...    126648    143240    119913   \n",
       "\n",
       "         70~74세.2  75~79세.2  80~84세.2  85~89세.2  90~94세.2  95~99세.2  100세 이상.2  \n",
       "행정기관                                                                            \n",
       "전국        1039913    714082    513601    214782     54804      9005       1391  \n",
       "서울특별시      188291    136396     94959     36935      9479      1706        290  \n",
       "부산광역시       84000     55802     37497     13604      3130       432         72  \n",
       "\n",
       "[3 rows x 23 columns]"
      ]
     },
     "execution_count": 413,
     "metadata": {},
     "output_type": "execute_result"
    }
   ],
   "source": [
    "# 1,2,3,4월 합산을 해서 가로막대그래프출력\n",
    "df2 = pd.read_excel('../z20_data/20230104_연령별인구현황2.xlsx',skiprows=3,nrows=5,\n",
    "                   index_col='행정기관',thousands=',',usecols='B,AW:BS')\n",
    "df2.head(3)"
   ]
  },
  {
   "cell_type": "code",
   "execution_count": 414,
   "metadata": {},
   "outputs": [
    {
     "data": {
      "text/plain": [
       "총 인구수        25626211\n",
       "연령구간인구수.2    25626211\n",
       "0~4세.2         722848\n",
       "5~9세.2        1067962\n",
       "10~14세.2      1210328\n",
       "15~19세.2      1210202\n",
       "20~24세.2      1516184\n",
       "25~29세.2      1816653\n",
       "30~34세.2      1738039\n",
       "35~39세.2      1676299\n",
       "40~44세.2      2058847\n",
       "45~49세.2      2038344\n",
       "50~54세.2      2302357\n",
       "55~59세.2      2054837\n",
       "60~64세.2      2102187\n",
       "65~69세.2      1563546\n",
       "70~74세.2      1039913\n",
       "75~79세.2       714082\n",
       "80~84세.2       513601\n",
       "85~89세.2       214782\n",
       "90~94세.2        54804\n",
       "95~99세.2         9005\n",
       "100세 이상.2        1391\n",
       "Name: 전국  , dtype: int64"
      ]
     },
     "execution_count": 414,
     "metadata": {},
     "output_type": "execute_result"
    }
   ],
   "source": [
    "df2.iloc[0] # 남자 2월"
   ]
  },
  {
   "cell_type": "code",
   "execution_count": 415,
   "metadata": {},
   "outputs": [
    {
     "data": {
      "text/html": [
       "<div>\n",
       "<style scoped>\n",
       "    .dataframe tbody tr th:only-of-type {\n",
       "        vertical-align: middle;\n",
       "    }\n",
       "\n",
       "    .dataframe tbody tr th {\n",
       "        vertical-align: top;\n",
       "    }\n",
       "\n",
       "    .dataframe thead th {\n",
       "        text-align: right;\n",
       "    }\n",
       "</style>\n",
       "<table border=\"1\" class=\"dataframe\">\n",
       "  <thead>\n",
       "    <tr style=\"text-align: right;\">\n",
       "      <th></th>\n",
       "      <th>0~4세.4</th>\n",
       "      <th>5~9세.4</th>\n",
       "      <th>10~14세.4</th>\n",
       "      <th>15~19세.4</th>\n",
       "      <th>20~24세.4</th>\n",
       "      <th>25~29세.4</th>\n",
       "      <th>30~34세.4</th>\n",
       "      <th>35~39세.4</th>\n",
       "      <th>40~44세.4</th>\n",
       "      <th>45~49세.4</th>\n",
       "      <th>...</th>\n",
       "      <th>55~59세.4</th>\n",
       "      <th>60~64세.4</th>\n",
       "      <th>65~69세.4</th>\n",
       "      <th>70~74세.4</th>\n",
       "      <th>75~79세.4</th>\n",
       "      <th>80~84세.4</th>\n",
       "      <th>85~89세.4</th>\n",
       "      <th>90~94세.4</th>\n",
       "      <th>95~99세.4</th>\n",
       "      <th>100세 이상.4</th>\n",
       "    </tr>\n",
       "    <tr>\n",
       "      <th>행정기관</th>\n",
       "      <th></th>\n",
       "      <th></th>\n",
       "      <th></th>\n",
       "      <th></th>\n",
       "      <th></th>\n",
       "      <th></th>\n",
       "      <th></th>\n",
       "      <th></th>\n",
       "      <th></th>\n",
       "      <th></th>\n",
       "      <th></th>\n",
       "      <th></th>\n",
       "      <th></th>\n",
       "      <th></th>\n",
       "      <th></th>\n",
       "      <th></th>\n",
       "      <th></th>\n",
       "      <th></th>\n",
       "      <th></th>\n",
       "      <th></th>\n",
       "      <th></th>\n",
       "    </tr>\n",
       "  </thead>\n",
       "  <tbody>\n",
       "    <tr>\n",
       "      <th>전국</th>\n",
       "      <td>718749</td>\n",
       "      <td>1063773</td>\n",
       "      <td>1208169</td>\n",
       "      <td>1208266</td>\n",
       "      <td>1508626</td>\n",
       "      <td>1814509</td>\n",
       "      <td>1748021</td>\n",
       "      <td>1669407</td>\n",
       "      <td>2057937</td>\n",
       "      <td>2028959</td>\n",
       "      <td>...</td>\n",
       "      <td>2058136</td>\n",
       "      <td>2105716</td>\n",
       "      <td>1572761</td>\n",
       "      <td>1043543</td>\n",
       "      <td>718702</td>\n",
       "      <td>515358</td>\n",
       "      <td>217307</td>\n",
       "      <td>55442</td>\n",
       "      <td>9119</td>\n",
       "      <td>1429</td>\n",
       "    </tr>\n",
       "    <tr>\n",
       "      <th>서울특별시</th>\n",
       "      <td>115337</td>\n",
       "      <td>159795</td>\n",
       "      <td>184981</td>\n",
       "      <td>197775</td>\n",
       "      <td>270730</td>\n",
       "      <td>389410</td>\n",
       "      <td>382352</td>\n",
       "      <td>329572</td>\n",
       "      <td>364364</td>\n",
       "      <td>349545</td>\n",
       "      <td>...</td>\n",
       "      <td>338624</td>\n",
       "      <td>343604</td>\n",
       "      <td>273876</td>\n",
       "      <td>188777</td>\n",
       "      <td>137154</td>\n",
       "      <td>95378</td>\n",
       "      <td>37401</td>\n",
       "      <td>9615</td>\n",
       "      <td>1700</td>\n",
       "      <td>299</td>\n",
       "    </tr>\n",
       "    <tr>\n",
       "      <th>부산광역시</th>\n",
       "      <td>40824</td>\n",
       "      <td>63560</td>\n",
       "      <td>68918</td>\n",
       "      <td>67642</td>\n",
       "      <td>92800</td>\n",
       "      <td>108403</td>\n",
       "      <td>104078</td>\n",
       "      <td>98554</td>\n",
       "      <td>127503</td>\n",
       "      <td>121118</td>\n",
       "      <td>...</td>\n",
       "      <td>126560</td>\n",
       "      <td>143128</td>\n",
       "      <td>120218</td>\n",
       "      <td>84267</td>\n",
       "      <td>56125</td>\n",
       "      <td>37742</td>\n",
       "      <td>13802</td>\n",
       "      <td>3159</td>\n",
       "      <td>453</td>\n",
       "      <td>73</td>\n",
       "    </tr>\n",
       "  </tbody>\n",
       "</table>\n",
       "<p>3 rows × 21 columns</p>\n",
       "</div>"
      ],
      "text/plain": [
       "         0~4세.4   5~9세.4  10~14세.4  15~19세.4  20~24세.4  25~29세.4  30~34세.4  \\\n",
       "행정기관                                                                         \n",
       "전국       718749  1063773   1208169   1208266   1508626   1814509   1748021   \n",
       "서울특별시    115337   159795    184981    197775    270730    389410    382352   \n",
       "부산광역시     40824    63560     68918     67642     92800    108403    104078   \n",
       "\n",
       "         35~39세.4  40~44세.4  45~49세.4  ...  55~59세.4  60~64세.4  65~69세.4  \\\n",
       "행정기관                                   ...                                 \n",
       "전국        1669407   2057937   2028959  ...   2058136   2105716   1572761   \n",
       "서울특별시      329572    364364    349545  ...    338624    343604    273876   \n",
       "부산광역시       98554    127503    121118  ...    126560    143128    120218   \n",
       "\n",
       "         70~74세.4  75~79세.4  80~84세.4  85~89세.4  90~94세.4  95~99세.4  100세 이상.4  \n",
       "행정기관                                                                            \n",
       "전국        1043543    718702    515358    217307     55442      9119       1429  \n",
       "서울특별시      188777    137154     95378     37401      9615      1700        299  \n",
       "부산광역시       84267     56125     37742     13802      3159       453         73  \n",
       "\n",
       "[3 rows x 21 columns]"
      ]
     },
     "execution_count": 415,
     "metadata": {},
     "output_type": "execute_result"
    }
   ],
   "source": [
    "df3= pd.read_excel('../z20_data/20230104_연령별인구현황2.xlsx',skiprows=3,nrows=5,\n",
    "                   index_col='행정기관',thousands=',',usecols='B,CS:DM')\n",
    "df3.head(3)"
   ]
  },
  {
   "cell_type": "code",
   "execution_count": 416,
   "metadata": {},
   "outputs": [
    {
     "data": {
      "text/plain": [
       "0~4세.4        718749\n",
       "5~9세.4       1063773\n",
       "10~14세.4     1208169\n",
       "15~19세.4     1208266\n",
       "20~24세.4     1508626\n",
       "25~29세.4     1814509\n",
       "30~34세.4     1748021\n",
       "35~39세.4     1669407\n",
       "40~44세.4     2057937\n",
       "45~49세.4     2028959\n",
       "50~54세.4     2297644\n",
       "55~59세.4     2058136\n",
       "60~64세.4     2105716\n",
       "65~69세.4     1572761\n",
       "70~74세.4     1043543\n",
       "75~79세.4      718702\n",
       "80~84세.4      515358\n",
       "85~89세.4      217307\n",
       "90~94세.4       55442\n",
       "95~99세.4        9119\n",
       "100세 이상.4       1429\n",
       "Name: 전국  , dtype: int64"
      ]
     },
     "execution_count": 416,
     "metadata": {},
     "output_type": "execute_result"
    }
   ],
   "source": [
    "df3.iloc[0] #남자3월"
   ]
  },
  {
   "cell_type": "code",
   "execution_count": 417,
   "metadata": {},
   "outputs": [
    {
     "data": {
      "text/html": [
       "<div>\n",
       "<style scoped>\n",
       "    .dataframe tbody tr th:only-of-type {\n",
       "        vertical-align: middle;\n",
       "    }\n",
       "\n",
       "    .dataframe tbody tr th {\n",
       "        vertical-align: top;\n",
       "    }\n",
       "\n",
       "    .dataframe thead th {\n",
       "        text-align: right;\n",
       "    }\n",
       "</style>\n",
       "<table border=\"1\" class=\"dataframe\">\n",
       "  <thead>\n",
       "    <tr style=\"text-align: right;\">\n",
       "      <th></th>\n",
       "      <th>0~4세.6</th>\n",
       "      <th>5~9세.6</th>\n",
       "      <th>10~14세.6</th>\n",
       "      <th>15~19세.6</th>\n",
       "      <th>20~24세.6</th>\n",
       "      <th>25~29세.6</th>\n",
       "      <th>30~34세.6</th>\n",
       "      <th>35~39세.6</th>\n",
       "      <th>40~44세.6</th>\n",
       "      <th>45~49세.6</th>\n",
       "      <th>...</th>\n",
       "      <th>55~59세.6</th>\n",
       "      <th>60~64세.6</th>\n",
       "      <th>65~69세.6</th>\n",
       "      <th>70~74세.6</th>\n",
       "      <th>75~79세.6</th>\n",
       "      <th>80~84세.6</th>\n",
       "      <th>85~89세.6</th>\n",
       "      <th>90~94세.6</th>\n",
       "      <th>95~99세.6</th>\n",
       "      <th>100세 이상.6</th>\n",
       "    </tr>\n",
       "    <tr>\n",
       "      <th>행정기관</th>\n",
       "      <th></th>\n",
       "      <th></th>\n",
       "      <th></th>\n",
       "      <th></th>\n",
       "      <th></th>\n",
       "      <th></th>\n",
       "      <th></th>\n",
       "      <th></th>\n",
       "      <th></th>\n",
       "      <th></th>\n",
       "      <th></th>\n",
       "      <th></th>\n",
       "      <th></th>\n",
       "      <th></th>\n",
       "      <th></th>\n",
       "      <th></th>\n",
       "      <th></th>\n",
       "      <th></th>\n",
       "      <th></th>\n",
       "      <th></th>\n",
       "      <th></th>\n",
       "    </tr>\n",
       "  </thead>\n",
       "  <tbody>\n",
       "    <tr>\n",
       "      <th>전국</th>\n",
       "      <td>713998</td>\n",
       "      <td>1059248</td>\n",
       "      <td>1207069</td>\n",
       "      <td>1206033</td>\n",
       "      <td>1502411</td>\n",
       "      <td>1811620</td>\n",
       "      <td>1756284</td>\n",
       "      <td>1664166</td>\n",
       "      <td>2058300</td>\n",
       "      <td>2019644</td>\n",
       "      <td>...</td>\n",
       "      <td>2047835</td>\n",
       "      <td>2118705</td>\n",
       "      <td>1580680</td>\n",
       "      <td>1045515</td>\n",
       "      <td>722547</td>\n",
       "      <td>516539</td>\n",
       "      <td>219233</td>\n",
       "      <td>56058</td>\n",
       "      <td>9148</td>\n",
       "      <td>1457</td>\n",
       "    </tr>\n",
       "    <tr>\n",
       "      <th>서울특별시</th>\n",
       "      <td>114462</td>\n",
       "      <td>159003</td>\n",
       "      <td>184679</td>\n",
       "      <td>196984</td>\n",
       "      <td>269650</td>\n",
       "      <td>388629</td>\n",
       "      <td>384156</td>\n",
       "      <td>328716</td>\n",
       "      <td>364361</td>\n",
       "      <td>347724</td>\n",
       "      <td>...</td>\n",
       "      <td>336779</td>\n",
       "      <td>345148</td>\n",
       "      <td>274967</td>\n",
       "      <td>188897</td>\n",
       "      <td>137704</td>\n",
       "      <td>95768</td>\n",
       "      <td>37741</td>\n",
       "      <td>9743</td>\n",
       "      <td>1709</td>\n",
       "      <td>303</td>\n",
       "    </tr>\n",
       "    <tr>\n",
       "      <th>부산광역시</th>\n",
       "      <td>40495</td>\n",
       "      <td>63358</td>\n",
       "      <td>68870</td>\n",
       "      <td>67308</td>\n",
       "      <td>92214</td>\n",
       "      <td>108064</td>\n",
       "      <td>104542</td>\n",
       "      <td>98268</td>\n",
       "      <td>127469</td>\n",
       "      <td>120741</td>\n",
       "      <td>...</td>\n",
       "      <td>125810</td>\n",
       "      <td>143450</td>\n",
       "      <td>120599</td>\n",
       "      <td>84356</td>\n",
       "      <td>56429</td>\n",
       "      <td>37938</td>\n",
       "      <td>13957</td>\n",
       "      <td>3197</td>\n",
       "      <td>440</td>\n",
       "      <td>77</td>\n",
       "    </tr>\n",
       "  </tbody>\n",
       "</table>\n",
       "<p>3 rows × 21 columns</p>\n",
       "</div>"
      ],
      "text/plain": [
       "         0~4세.6   5~9세.6  10~14세.6  15~19세.6  20~24세.6  25~29세.6  30~34세.6  \\\n",
       "행정기관                                                                         \n",
       "전국       713998  1059248   1207069   1206033   1502411   1811620   1756284   \n",
       "서울특별시    114462   159003    184679    196984    269650    388629    384156   \n",
       "부산광역시     40495    63358     68870     67308     92214    108064    104542   \n",
       "\n",
       "         35~39세.6  40~44세.6  45~49세.6  ...  55~59세.6  60~64세.6  65~69세.6  \\\n",
       "행정기관                                   ...                                 \n",
       "전국        1664166   2058300   2019644  ...   2047835   2118705   1580680   \n",
       "서울특별시      328716    364361    347724  ...    336779    345148    274967   \n",
       "부산광역시       98268    127469    120741  ...    125810    143450    120599   \n",
       "\n",
       "         70~74세.6  75~79세.6  80~84세.6  85~89세.6  90~94세.6  95~99세.6  100세 이상.6  \n",
       "행정기관                                                                            \n",
       "전국        1045515    722547    516539    219233     56058      9148       1457  \n",
       "서울특별시      188897    137704     95768     37741      9743      1709        303  \n",
       "부산광역시       84356     56429     37938     13957      3197       440         77  \n",
       "\n",
       "[3 rows x 21 columns]"
      ]
     },
     "execution_count": 417,
     "metadata": {},
     "output_type": "execute_result"
    }
   ],
   "source": [
    "df4= pd.read_excel('../z20_data/20230104_연령별인구현황2.xlsx',skiprows=3,nrows=5,\n",
    "                   index_col='행정기관',thousands=',',usecols='B,EM:FG')\n",
    "df4.head(3)"
   ]
  },
  {
   "cell_type": "code",
   "execution_count": 418,
   "metadata": {},
   "outputs": [
    {
     "data": {
      "text/plain": [
       "0~4세.6        713998\n",
       "5~9세.6       1059248\n",
       "10~14세.6     1207069\n",
       "15~19세.6     1206033\n",
       "20~24세.6     1502411\n",
       "25~29세.6     1811620\n",
       "30~34세.6     1756284\n",
       "35~39세.6     1664166\n",
       "40~44세.6     2058300\n",
       "45~49세.6     2019644\n",
       "50~54세.6     2300995\n",
       "55~59세.6     2047835\n",
       "60~64세.6     2118705\n",
       "65~69세.6     1580680\n",
       "70~74세.6     1045515\n",
       "75~79세.6      722547\n",
       "80~84세.6      516539\n",
       "85~89세.6      219233\n",
       "90~94세.6       56058\n",
       "95~99세.6        9148\n",
       "100세 이상.6       1457\n",
       "Name: 전국  , dtype: int64"
      ]
     },
     "execution_count": 418,
     "metadata": {},
     "output_type": "execute_result"
    }
   ],
   "source": [
    "df4.iloc[0]# 남자4월"
   ]
  },
  {
   "cell_type": "code",
   "execution_count": 419,
   "metadata": {},
   "outputs": [
    {
     "data": {
      "text/plain": [
       "<BarContainer object of 21 artists>"
      ]
     },
     "execution_count": 419,
     "metadata": {},
     "output_type": "execute_result"
    },
    {
     "data": {
      "image/png": "[encoded data removed]",
      "text/plain": [
       "<Figure size 640x480 with 1 Axes>"
      ]
     },
     "metadata": {},
     "output_type": "display_data"
    }
   ],
   "source": [
    "x = df.columns\n",
    "xy1 = (df.iloc[0,0]+df2.iloc[0,0]+df3.iloc[0,0]+df4.iloc[0,0])/1000\n",
    "xy2 = (df.iloc[0,1]+df2.iloc[0,1]+df3.iloc[0,1]+df4.iloc[0,1])/1000\n",
    "\n",
    "plt.bar(x,xy1)  \n",
    "# plt.bar(x,xy2)  "
   ]
  },
  {
   "cell_type": "code",
   "execution_count": 420,
   "metadata": {},
   "outputs": [
    {
     "data": {
      "text/plain": [
       "27785418"
      ]
     },
     "execution_count": 420,
     "metadata": {},
     "output_type": "execute_result"
    }
   ],
   "source": [
    "df.iloc[0,0]+df2.iloc[0,0]+df3.iloc[0,0]+df4.iloc[0,0]"
   ]
  },
  {
   "cell_type": "code",
   "execution_count": 421,
   "metadata": {},
   "outputs": [
    {
     "data": {
      "text/plain": [
       "28821885"
      ]
     },
     "execution_count": 421,
     "metadata": {},
     "output_type": "execute_result"
    }
   ],
   "source": [
    "(df.iloc[0,1]+df2.iloc[0,1]+df3.iloc[0,1]+df4.iloc[0,1])"
   ]
  },
  {
   "cell_type": "code",
   "execution_count": 422,
   "metadata": {},
   "outputs": [
    {
     "data": {
      "text/plain": [
       "1072653"
      ]
     },
     "execution_count": 422,
     "metadata": {},
     "output_type": "execute_result"
    }
   ],
   "source": [
    "df.iloc[0,1]"
   ]
  },
  {
   "cell_type": "code",
   "execution_count": 423,
   "metadata": {},
   "outputs": [],
   "source": [
    "# 1월데이터\n",
    "dfm = pd.read_excel('../z20_data/20230104_연령별인구현황2.xlsx',skiprows=3,nrows=5,\n",
    "                   index_col='행정기관',usecols='B,E:Y')\n",
    "dfm = dfm.head(1)\n",
    "dfw = pd.read_excel('../z20_data/20230104_연령별인구현황2.xlsx',skiprows=3,nrows=5,\n",
    "                   thousands=',',index_col='행정기관',usecols='B,AB:AV')\n",
    "dfw = dfw.head(1)\n",
    "dfm2 = pd.read_excel('../z20_data/20230104_연령별인구현황2.xlsx',skiprows=3,nrows=5,\n",
    "                   index_col='행정기관',thousands=',',usecols='B,AV:BS')\n",
    "dfm2 = dfm2.head(1)\n",
    "dfw2 = pd.read_excel('../z20_data/20230104_연령별인구현황2.xlsx',skiprows=3,nrows=5,\n",
    "                   thousands=',',index_col='행정기관',usecols='B,BV:AV')\n",
    "dfw2 = dfw2.head(1)\n"
   ]
  },
  {
   "cell_type": "code",
   "execution_count": 424,
   "metadata": {},
   "outputs": [
    {
     "data": {
      "text/plain": [
       "Index(['0~4세', '5~9세', '10~14세', '15~19세', '20~24세', '25~29세', '30~34세',\n",
       "       '35~39세', '40~44세', '45~49세', '50~54세', '55~59세', '60~64세', '65~69세',\n",
       "       '70~74세', '75~79세', '80~84세', '85~89세', '90~94세', '95~99세', '100세 이상'],\n",
       "      dtype='object')"
      ]
     },
     "execution_count": 424,
     "metadata": {},
     "output_type": "execute_result"
    }
   ],
   "source": [
    "dfm.columns"
   ]
  },
  {
   "cell_type": "code",
   "execution_count": 432,
   "metadata": {},
   "outputs": [
    {
     "ename": "ValueError",
     "evalue": "Length mismatch: Expected axis has 24 elements, new values have 21 elements",
     "output_type": "error",
     "traceback": [
      "\u001b[1;31m---------------------------------------------------------------------------\u001b[0m",
      "\u001b[1;31mValueError\u001b[0m                                Traceback (most recent call last)",
      "Cell \u001b[1;32mIn[432], line 2\u001b[0m\n\u001b[0;32m      1\u001b[0m dfw\u001b[38;5;241m.\u001b[39mcolumns \u001b[38;5;241m=\u001b[39m dfm\u001b[38;5;241m.\u001b[39mcolumns\n\u001b[1;32m----> 2\u001b[0m \u001b[43mdfm2\u001b[49m\u001b[38;5;241;43m.\u001b[39;49m\u001b[43mcolumns\u001b[49m \u001b[38;5;241m=\u001b[39m dfw\u001b[38;5;241m.\u001b[39mcolumns \n",
      "File \u001b[1;32mc:\\Python312\\Lib\\site-packages\\pandas\\core\\generic.py:6313\u001b[0m, in \u001b[0;36mNDFrame.__setattr__\u001b[1;34m(self, name, value)\u001b[0m\n\u001b[0;32m   6311\u001b[0m \u001b[38;5;28;01mtry\u001b[39;00m:\n\u001b[0;32m   6312\u001b[0m     \u001b[38;5;28mobject\u001b[39m\u001b[38;5;241m.\u001b[39m\u001b[38;5;21m__getattribute__\u001b[39m(\u001b[38;5;28mself\u001b[39m, name)\n\u001b[1;32m-> 6313\u001b[0m     \u001b[38;5;28;01mreturn\u001b[39;00m \u001b[38;5;28;43mobject\u001b[39;49m\u001b[38;5;241;43m.\u001b[39;49m\u001b[38;5;21;43m__setattr__\u001b[39;49m\u001b[43m(\u001b[49m\u001b[38;5;28;43mself\u001b[39;49m\u001b[43m,\u001b[49m\u001b[43m \u001b[49m\u001b[43mname\u001b[49m\u001b[43m,\u001b[49m\u001b[43m \u001b[49m\u001b[43mvalue\u001b[49m\u001b[43m)\u001b[49m\n\u001b[0;32m   6314\u001b[0m \u001b[38;5;28;01mexcept\u001b[39;00m \u001b[38;5;167;01mAttributeError\u001b[39;00m:\n\u001b[0;32m   6315\u001b[0m     \u001b[38;5;28;01mpass\u001b[39;00m\n",
      "File \u001b[1;32mproperties.pyx:69\u001b[0m, in \u001b[0;36mpandas._libs.properties.AxisProperty.__set__\u001b[1;34m()\u001b[0m\n",
      "File \u001b[1;32mc:\\Python312\\Lib\\site-packages\\pandas\\core\\generic.py:814\u001b[0m, in \u001b[0;36mNDFrame._set_axis\u001b[1;34m(self, axis, labels)\u001b[0m\n\u001b[0;32m    809\u001b[0m \u001b[38;5;250m\u001b[39m\u001b[38;5;124;03m\"\"\"\u001b[39;00m\n\u001b[0;32m    810\u001b[0m \u001b[38;5;124;03mThis is called from the cython code when we set the `index` attribute\u001b[39;00m\n\u001b[0;32m    811\u001b[0m \u001b[38;5;124;03mdirectly, e.g. `series.index = [1, 2, 3]`.\u001b[39;00m\n\u001b[0;32m    812\u001b[0m \u001b[38;5;124;03m\"\"\"\u001b[39;00m\n\u001b[0;32m    813\u001b[0m labels \u001b[38;5;241m=\u001b[39m ensure_index(labels)\n\u001b[1;32m--> 814\u001b[0m \u001b[38;5;28;43mself\u001b[39;49m\u001b[38;5;241;43m.\u001b[39;49m\u001b[43m_mgr\u001b[49m\u001b[38;5;241;43m.\u001b[39;49m\u001b[43mset_axis\u001b[49m\u001b[43m(\u001b[49m\u001b[43maxis\u001b[49m\u001b[43m,\u001b[49m\u001b[43m \u001b[49m\u001b[43mlabels\u001b[49m\u001b[43m)\u001b[49m\n\u001b[0;32m    815\u001b[0m \u001b[38;5;28mself\u001b[39m\u001b[38;5;241m.\u001b[39m_clear_item_cache()\n",
      "File \u001b[1;32mc:\\Python312\\Lib\\site-packages\\pandas\\core\\internals\\managers.py:238\u001b[0m, in \u001b[0;36mBaseBlockManager.set_axis\u001b[1;34m(self, axis, new_labels)\u001b[0m\n\u001b[0;32m    236\u001b[0m \u001b[38;5;28;01mdef\u001b[39;00m \u001b[38;5;21mset_axis\u001b[39m(\u001b[38;5;28mself\u001b[39m, axis: AxisInt, new_labels: Index) \u001b[38;5;241m-\u001b[39m\u001b[38;5;241m>\u001b[39m \u001b[38;5;28;01mNone\u001b[39;00m:\n\u001b[0;32m    237\u001b[0m     \u001b[38;5;66;03m# Caller is responsible for ensuring we have an Index object.\u001b[39;00m\n\u001b[1;32m--> 238\u001b[0m     \u001b[38;5;28;43mself\u001b[39;49m\u001b[38;5;241;43m.\u001b[39;49m\u001b[43m_validate_set_axis\u001b[49m\u001b[43m(\u001b[49m\u001b[43maxis\u001b[49m\u001b[43m,\u001b[49m\u001b[43m \u001b[49m\u001b[43mnew_labels\u001b[49m\u001b[43m)\u001b[49m\n\u001b[0;32m    239\u001b[0m     \u001b[38;5;28mself\u001b[39m\u001b[38;5;241m.\u001b[39maxes[axis] \u001b[38;5;241m=\u001b[39m new_labels\n",
      "File \u001b[1;32mc:\\Python312\\Lib\\site-packages\\pandas\\core\\internals\\base.py:98\u001b[0m, in \u001b[0;36mDataManager._validate_set_axis\u001b[1;34m(self, axis, new_labels)\u001b[0m\n\u001b[0;32m     95\u001b[0m     \u001b[38;5;28;01mpass\u001b[39;00m\n\u001b[0;32m     97\u001b[0m \u001b[38;5;28;01melif\u001b[39;00m new_len \u001b[38;5;241m!=\u001b[39m old_len:\n\u001b[1;32m---> 98\u001b[0m     \u001b[38;5;28;01mraise\u001b[39;00m \u001b[38;5;167;01mValueError\u001b[39;00m(\n\u001b[0;32m     99\u001b[0m         \u001b[38;5;124mf\u001b[39m\u001b[38;5;124m\"\u001b[39m\u001b[38;5;124mLength mismatch: Expected axis has \u001b[39m\u001b[38;5;132;01m{\u001b[39;00mold_len\u001b[38;5;132;01m}\u001b[39;00m\u001b[38;5;124m elements, new \u001b[39m\u001b[38;5;124m\"\u001b[39m\n\u001b[0;32m    100\u001b[0m         \u001b[38;5;124mf\u001b[39m\u001b[38;5;124m\"\u001b[39m\u001b[38;5;124mvalues have \u001b[39m\u001b[38;5;132;01m{\u001b[39;00mnew_len\u001b[38;5;132;01m}\u001b[39;00m\u001b[38;5;124m elements\u001b[39m\u001b[38;5;124m\"\u001b[39m\n\u001b[0;32m    101\u001b[0m     )\n",
      "\u001b[1;31mValueError\u001b[0m: Length mismatch: Expected axis has 24 elements, new values have 21 elements"
     ]
    }
   ],
   "source": [
    "dfw.columns = dfm.columns\n",
    "dfm2.columns = dfw.columns "
   ]
  }
 ],
 "metadata": {
  "kernelspec": {
   "display_name": "Python 3",
   "language": "python",
   "name": "python3"
  },
  "language_info": {
   "codemirror_mode": {
    "name": "ipython",
    "version": 3
   },
   "file_extension": ".py",
   "mimetype": "text/x-python",
   "name": "python",
   "nbconvert_exporter": "python",
   "pygments_lexer": "ipython3",
   "version": "3.12.2"
  }
 },
 "nbformat": 4,
 "nbformat_minor": 2
}
