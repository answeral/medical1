{
 "cells": [
  {
   "cell_type": "code",
   "execution_count": 2,
   "metadata": {},
   "outputs": [],
   "source": [
    "from sklearn import svm,metrics\n",
    "from sklearn.model_selection import train_test_split\n",
    "import matplotlib.pyplot as plt\n",
    "import matplotlib\n",
    "import numpy as np\n",
    "import pandas as pd\n",
    "import random\n",
    "\n",
    "matplotlib.rcParams['font.family'] = 'Malgun Gothic'\n",
    "matplotlib.rcParams['font.size'] = 10\n",
    "matplotlib.rcParams['axes.unicode_minus'] = False"
   ]
  },
  {
   "cell_type": "code",
   "execution_count": 3,
   "metadata": {},
   "outputs": [],
   "source": [
    "# [ 도미 ]\n",
    "bream_length = [25.4, 26.3, 26.5, 29.0, 29.0, 29.7, 29.7, 30.0, 30.0, 30.7, 31.0, 31.0, 31.5, 32.0, 32.0, 32.0, 33.0, 33.0,\n",
    "33.5, 33.5, 34.0, 34.0, 34.5, 35.0, 35.0, 35.0, 35.0, 36.0, 36.0, 37.0, 38.5, 38.5, 39.5, 41.0, 41.0]\n",
    "bream_weight = [242.0, 290.0, 340.0, 363.0, 430.0, 450.0, 500.0, 390.0, 450.0, 500.0, 475.0, 500.0, 500.0, 340.0, 600.0, 600.0, 700.0, 700.0,\n",
    "610.0, 650.0, 575.0, 685.0, 620.0, 680.0, 700.0, 725.0, 720.0, 714.0, 850.0, 1000.0, 920.0, 955.0, 925.0, 975.0, 950.0]\n",
    "\n",
    "\n",
    "# [ 빙어 ]\n",
    "smelt_length = [9.8, 10.5, 10.6, 11.0, 11.2, 11.3, 11.8, 11.8, 12.0, 12.2, 12.4, 13.0, 14.3, 15.0]\n",
    "smelt_weight = [6.7, 7.5, 7.0, 9.7, 9.8, 8.7, 10.0, 9.9, 9.8, 12.2, 13.4, 12.2, 19.7, 19.9]"
   ]
  },
  {
   "cell_type": "code",
   "execution_count": 4,
   "metadata": {},
   "outputs": [
    {
     "data": {
      "text/plain": [
       "<matplotlib.collections.PathCollection at 0x17908a95100>"
      ]
     },
     "execution_count": 4,
     "metadata": {},
     "output_type": "execute_result"
    },
    {
     "data": {
      "image/png": "[encoded data removed]",
      "text/plain": [
       "<Figure size 640x480 with 1 Axes>"
      ]
     },
     "metadata": {},
     "output_type": "display_data"
    }
   ],
   "source": [
    "plt.scatter(bream_length,bream_weight)\n",
    "plt.scatter(smelt_length,smelt_weight)\n",
    "plt.scatter(30,600, marker='D',color='purple')\n",
    "plt.scatter(25,150, marker='^',color='r')"
   ]
  },
  {
   "cell_type": "code",
   "execution_count": 5,
   "metadata": {},
   "outputs": [
    {
     "data": {
      "text/plain": [
       "14"
      ]
     },
     "execution_count": 5,
     "metadata": {},
     "output_type": "execute_result"
    }
   ],
   "source": [
    "len(bream_length) # 35 도미데이터\n",
    "len(smelt_length) # 14 빙어데이터"
   ]
  },
  {
   "cell_type": "code",
   "execution_count": 6,
   "metadata": {},
   "outputs": [],
   "source": [
    "# 데이터의 전처리 과정\n",
    "# train_input, test_input, train_target, test_target\n",
    "# length data ->합치기 (bream_length,bream_length)\n",
    "# weight data ->합치기 (bream_weight,smelt_weight)\n",
    "\n",
    "### datas = length, weight 합치기\n",
    "#  train_input, test_input, train_target, test_target\n"
   ]
  },
  {
   "cell_type": "code",
   "execution_count": 7,
   "metadata": {},
   "outputs": [
    {
     "name": "stdout",
     "output_type": "stream",
     "text": [
      "[25.4, 26.3, 26.5, 29.0, 29.0, 29.7, 29.7, 30.0, 30.0, 30.7, 31.0, 31.0, 31.5, 32.0, 32.0, 32.0, 33.0, 33.0, 33.5, 33.5, 34.0, 34.0, 34.5, 35.0, 35.0, 35.0, 35.0, 36.0, 36.0, 37.0, 38.5, 38.5, 39.5, 41.0, 41.0, 6.7, 7.5, 7.0, 9.7, 9.8, 8.7, 10.0, 9.9, 9.8, 12.2, 13.4, 12.2, 19.7, 19.9]\n",
      "[242.0, 290.0, 340.0, 363.0, 430.0, 450.0, 500.0, 390.0, 450.0, 500.0, 475.0, 500.0, 500.0, 340.0, 600.0, 600.0, 700.0, 700.0, 610.0, 650.0, 575.0, 685.0, 620.0, 680.0, 700.0, 725.0, 720.0, 714.0, 850.0, 1000.0, 920.0, 955.0, 925.0, 975.0, 950.0, 6.7, 7.5, 7.0, 9.7, 9.8, 8.7, 10.0, 9.9, 9.8, 12.2, 13.4, 12.2, 19.7, 19.9]\n"
     ]
    }
   ],
   "source": [
    "length_data=bream_length +smelt_weight\n",
    "print(length_data)\n",
    "\n",
    "weight_data = bream_weight+smelt_weight\n",
    "print(weight_data)\n",
    "# datas= []\n",
    "# for i in length_data:\n",
    "#      datas.append(i)\n",
    "#      for j in weight_data:\n",
    "#           datas.append(j)\n",
    "          \n",
    "# print(datas)\n",
    "results = [1]*35+[0]*14 # 1도미 0 빙어\n",
    "\n",
    "# zip() :반복해서 각각 list 데이터를 1개씩 뽑아서 전달해줌\n",
    "# datas =[[l,w,r] for l,w,r in zip(length_data,weight_data,results)]\n",
    "datas =[[l,w] for l,w in zip(length_data,weight_data)]\n",
    "df = pd.DataFrame(datas)\n",
    "# datas\n",
    "# results"
   ]
  },
  {
   "cell_type": "code",
   "execution_count": 8,
   "metadata": {},
   "outputs": [
    {
     "name": "stdout",
     "output_type": "stream",
     "text": [
      "[0, 0, 0, 1, 1, 1, 1, 0, 1, 1, 0, 1, 1, 1, 1, 1, 1, 0, 0, 1, 1, 1, 1, 0, 1, 1, 1, 0, 1, 1, 1, 1, 1, 1, 1, 1, 0, 0, 0, 1, 1, 1, 1, 1, 0, 0, 1, 1, 1]\n"
     ]
    }
   ],
   "source": [
    "# datas, results 49개를 train_input 35개 train_target 35개\n",
    "# random 함수를 사용해서 49개 중 35개 데이터는 train_input 14개. train_target 14개\n",
    "# 14개는 test_input , test_target에 입력\n",
    "random.shuffle(results)\n",
    "print(results)\n",
    "df = pd.DataFrame(datas)\n",
    "df.head()\n",
    "\n",
    "# 랜덤숫자생성\n",
    "idx = [i for i in range(49)]\n",
    "random.shuffle(idx)\n",
    "# idx\n"
   ]
  },
  {
   "cell_type": "code",
   "execution_count": 9,
   "metadata": {},
   "outputs": [],
   "source": [
    "#  데이터 전처리 - 파이썬 random 함수 사용\n",
    "# for 문을 사용해서, 35개, 14개 분리해서 출력 datas, results\n",
    "train_input = [datas[i] for i in idx[:35]]     #35\n",
    "test_input =  [datas[i] for i in idx[35:]]     #14\n",
    "train_target =  [results[i] for i in idx[:35]] #35 \n",
    "test_target =  [results[i] for i in idx[35:]]  #14\n"
   ]
  },
  {
   "cell_type": "code",
   "execution_count": 10,
   "metadata": {},
   "outputs": [],
   "source": [
    "#  데이터 전처리 -pandas 사용\n",
    "# train_input = df.iloc[idx[:35],:]\n",
    "# test_input = df.iloc[idx[35:],:]\n",
    "# train_target = df.iloc[idx[:35],1]\n",
    "# test_target = df.iloc[idx[35:],1]"
   ]
  },
  {
   "cell_type": "code",
   "execution_count": 11,
   "metadata": {},
   "outputs": [
    {
     "data": {
      "text/plain": [
       "[[6.7, 6.7],\n",
       " [7.5, 7.5],\n",
       " [7.0, 7.0],\n",
       " [9.7, 9.7],\n",
       " [9.8, 9.8],\n",
       " [8.7, 8.7],\n",
       " [10.0, 10.0],\n",
       " [9.9, 9.9],\n",
       " [9.8, 9.8],\n",
       " [12.2, 12.2],\n",
       " [13.4, 13.4],\n",
       " [12.2, 12.2],\n",
       " [19.7, 19.7],\n",
       " [19.9, 19.9]]"
      ]
     },
     "execution_count": 11,
     "metadata": {},
     "output_type": "execute_result"
    }
   ],
   "source": [
    "datas[:35]\n",
    "datas[35:]"
   ]
  },
  {
   "cell_type": "code",
   "execution_count": 12,
   "metadata": {},
   "outputs": [
    {
     "data": {
      "text/plain": [
       "0      7.5\n",
       "1     38.5\n",
       "2     35.0\n",
       "3      9.8\n",
       "4      9.7\n",
       "5     32.0\n",
       "6     34.5\n",
       "7     33.0\n",
       "8     29.0\n",
       "9     41.0\n",
       "10    29.7\n",
       "11    36.0\n",
       "12    26.3\n",
       "13    33.5\n",
       "14    34.0\n",
       "15    37.0\n",
       "16    41.0\n",
       "17    35.0\n",
       "18    31.0\n",
       "19     9.8\n",
       "20    19.7\n",
       "21    12.2\n",
       "22    35.0\n",
       "23    31.0\n",
       "24    30.0\n",
       "25     6.7\n",
       "26     9.9\n",
       "27    30.0\n",
       "28    29.7\n",
       "29    32.0\n",
       "30    38.5\n",
       "31    30.7\n",
       "32    39.5\n",
       "33    29.0\n",
       "34    31.5\n",
       "Name: 0, dtype: float64"
      ]
     },
     "execution_count": 12,
     "metadata": {},
     "output_type": "execute_result"
    }
   ],
   "source": [
    "df_train = pd.DataFrame(train_input)\n",
    "df_train.head(1)\n",
    "df_test = pd.DataFrame(test_input)\n",
    "df_test.head(1)\n",
    "df_train[0]"
   ]
  },
  {
   "cell_type": "code",
   "execution_count": 13,
   "metadata": {},
   "outputs": [
    {
     "data": {
      "text/plain": [
       "<matplotlib.collections.PathCollection at 0x1790aca2360>"
      ]
     },
     "execution_count": 13,
     "metadata": {},
     "output_type": "execute_result"
    },
    {
     "data": {
      "image/png": "[encoded data removed]",
      "text/plain": [
       "<Figure size 640x480 with 1 Axes>"
      ]
     },
     "metadata": {},
     "output_type": "display_data"
    }
   ],
   "source": [
    "plt.scatter(df_train[0],df_train[1])\n",
    "plt.scatter(df_test[0],df_test[1])\n",
    "plt.scatter(30,600, marker='D',color='purple')\n",
    "plt.scatter(25,150, marker='^',color='r')"
   ]
  },
  {
   "cell_type": "code",
   "execution_count": 14,
   "metadata": {},
   "outputs": [],
   "source": [
    "# 길이 30, 무게 600인 고기 무엇인지 판단\n",
    "data=[30,600] # 1\n",
    "data1 = [25,150] # 1"
   ]
  },
  {
   "cell_type": "code",
   "execution_count": 15,
   "metadata": {},
   "outputs": [
    {
     "name": "stdout",
     "output_type": "stream",
     "text": [
      "예측데이터 :  [1]\n"
     ]
    }
   ],
   "source": [
    "# 데이터 학습하기\n",
    "from sklearn.neighbors import KNeighborsClassifier\n",
    "# clf = svm.SVC()\n",
    "clf = KNeighborsClassifier()\n",
    "clf.fit(train_input,train_target)\n",
    "# 데이터 예측하기\n",
    "pre = clf.predict([data1])\n",
    "print(\"예측데이터 : \",pre)"
   ]
  },
  {
   "cell_type": "code",
   "execution_count": 16,
   "metadata": {},
   "outputs": [],
   "source": [
    "# train_input 몇 번째 index 데이터를 사용했는지 알려줌\n",
    "distances,indexs = clf.kneighbors([[25,150]])"
   ]
  },
  {
   "cell_type": "code",
   "execution_count": 22,
   "metadata": {},
   "outputs": [
    {
     "data": {
      "text/plain": [
       "<matplotlib.collections.PathCollection at 0x1790b03e300>"
      ]
     },
     "execution_count": 22,
     "metadata": {},
     "output_type": "execute_result"
    },
    {
     "data": {
      "image/png": "[encoded data removed]",
      "text/plain": [
       "<Figure size 640x480 with 1 Axes>"
      ]
     },
     "metadata": {},
     "output_type": "display_data"
    }
   ],
   "source": [
    "plt.xlim(0,1000)\n",
    "plt.scatter(df_train[0],df_train[1])\n",
    "plt.scatter(df_test[0],df_test[1])\n",
    "plt.scatter(df_train.iloc[indexs[0],0],df_train.iloc[indexs[0],1],marker='^')\n",
    "# plt.scatter(30,600, marker='D',color='purple')\n",
    "plt.scatter(25,150, marker='^',color='r')"
   ]
  },
  {
   "cell_type": "code",
   "execution_count": 18,
   "metadata": {},
   "outputs": [
    {
     "name": "stdout",
     "output_type": "stream",
     "text": [
      "정답률 :  0.5714285714285714\n"
     ]
    }
   ],
   "source": [
    "score = clf.score(test_input,test_target)\n",
    "print(\"정답률 : \",score)"
   ]
  },
  {
   "cell_type": "code",
   "execution_count": null,
   "metadata": {},
   "outputs": [],
   "source": []
  }
 ],
 "metadata": {
  "kernelspec": {
   "display_name": "Python 3",
   "language": "python",
   "name": "python3"
  },
  "language_info": {
   "codemirror_mode": {
    "name": "ipython",
    "version": 3
   },
   "file_extension": ".py",
   "mimetype": "text/x-python",
   "name": "python",
   "nbconvert_exporter": "python",
   "pygments_lexer": "ipython3",
   "version": "3.12.2"
  }
 },
 "nbformat": 4,
 "nbformat_minor": 2
}
