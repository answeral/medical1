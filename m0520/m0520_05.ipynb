{
 "cells": [
  {
   "cell_type": "markdown",
   "metadata": {},
   "source": [
    "정규 표현식"
   ]
  },
  {
   "cell_type": "code",
   "execution_count": 33,
   "metadata": {},
   "outputs": [
    {
     "name": "stdout",
     "output_type": "stream",
     "text": [
      "매칭이 되지 않았습니다\n"
     ]
    }
   ],
   "source": [
    "import re\n",
    "# 정규 표현식\n",
    "# .(ca.e)하나의 문자\n",
    "# ^(^de)문자열의 시작\n",
    "# $(se$) 문자열의 끝\n",
    "p = re.compile(\"ca.e\") # 정규표현식을 지정\n",
    "word = 'cafe'  \n",
    "word2 = 'cark' \n",
    "word3 = 'care'\n",
    "\n",
    "p.match(word)\n",
    "if p.match(word2):\n",
    "     print(\"매칭이 되었습니다\")\n",
    "else:\n",
    "     print(\"매칭이 되지 않았습니다\") \n",
    "     \n",
    "\n",
    "   "
   ]
  },
  {
   "cell_type": "code",
   "execution_count": 34,
   "metadata": {},
   "outputs": [
    {
     "name": "stdout",
     "output_type": "stream",
     "text": [
      "매칭되었습니다 case\n"
     ]
    }
   ],
   "source": [
    "# 문자열의 시작 ^de: de로 시작되어야함.\n",
    "# se$ : 끝이 se로 끝나야함\n",
    "word = 'case'\n",
    "p = re.compile(\"(se$)\") # 정규표현식을 지정\n",
    "if p.search(word): #de로 시작되어야함.\n",
    "     print(\"매칭되었습니다\",word)\n",
    "else:\n",
    "     print(\"매칭이 되지 않았습니다\",word) "
   ]
  },
  {
   "cell_type": "code",
   "execution_count": 35,
   "metadata": {},
   "outputs": [
    {
     "name": "stdout",
     "output_type": "stream",
     "text": [
      "매칭됨 abcdef\n"
     ]
    }
   ],
   "source": [
    "# {3} : 3자리가 들어와야 True\n",
    "# {2,3} : 2~3자리가 들어와야 True\n",
    "# ^ 시작\n",
    "# [] : []안에 있는 글자만 True\n",
    "# a-z : abcdefg...z\n",
    "# A-Z :A,B,C,D,...,X,Y,Z\n",
    "# 0-9 : 0,1,2,3,...,8,9\n",
    "# ㄱ...ㅎ 가...힣: 국문만 가능\n",
    "\n",
    "\n",
    "# 첫글자가 a이면서, 영문소문자가 5개만 들어올 수 있음\n",
    "word = 'abcdef'\n",
    "if re.match(r'^a{1}[a-z]{5}$',word):\n",
    "     print(\"매칭됨\", word)\n",
    "else:\n",
    "     print(\"매칭 되지 않음\")"
   ]
  },
  {
   "cell_type": "code",
   "execution_count": 38,
   "metadata": {},
   "outputs": [
    {
     "ename": "TypeError",
     "evalue": "match() missing 1 required positional argument: 'string'",
     "output_type": "error",
     "traceback": [
      "\u001b[1;31m---------------------------------------------------------------------------\u001b[0m",
      "\u001b[1;31mTypeError\u001b[0m                                 Traceback (most recent call last)",
      "Cell \u001b[1;32mIn[38], line 2\u001b[0m\n\u001b[0;32m      1\u001b[0m word \u001b[38;5;241m=\u001b[39m \u001b[38;5;124m\"\u001b[39m\u001b[38;5;124m02-1234-4567\u001b[39m\u001b[38;5;124m\"\u001b[39m\n\u001b[1;32m----> 2\u001b[0m \u001b[38;5;28;01mif\u001b[39;00m \u001b[43mre\u001b[49m\u001b[38;5;241;43m.\u001b[39;49m\u001b[43mmatch\u001b[49m\u001b[43m(\u001b[49m\u001b[38;5;124;43m'\u001b[39;49m\u001b[38;5;124;43m[0-9]\u001b[39;49m\u001b[38;5;124;43m{\u001b[39;49m\u001b[38;5;124;43m2,3}-[0-9]\u001b[39;49m\u001b[38;5;132;43;01m{4}\u001b[39;49;00m\u001b[38;5;124;43m-[0-9]\u001b[39;49m\u001b[38;5;132;43;01m{4}\u001b[39;49;00m\u001b[38;5;124;43m]\u001b[39;49m\u001b[38;5;124;43m'\u001b[39;49m\u001b[43m)\u001b[49m:\n\u001b[0;32m      3\u001b[0m      \u001b[38;5;28mprint\u001b[39m(\u001b[38;5;124m\"\u001b[39m\u001b[38;5;124m매칭됨\u001b[39m\u001b[38;5;124m\"\u001b[39m, word)\n\u001b[0;32m      4\u001b[0m \u001b[38;5;28;01melse\u001b[39;00m:\n",
      "\u001b[1;31mTypeError\u001b[0m: match() missing 1 required positional argument: 'string'"
     ]
    }
   ],
   "source": [
    "word = \"02-1234-4567\"\n",
    "if re.match('[0-9]{2,3}-[0-9]{4}-[0-9]{4}]'):\n",
    "     print(\"매칭됨\", word)\n",
    "else:\n",
    "     print(\"매칭 되지 않음\")"
   ]
  },
  {
   "cell_type": "code",
   "execution_count": null,
   "metadata": {},
   "outputs": [],
   "source": [
    "# 데이터를 입력받아, 길이가 6자리, 첫글자가 a가 입력이 되면\n",
    "# 제대로 입력되었습니다. 그렇지 않으면\n",
    "# 다시 입력하세요라고 출력\n",
    "# 제대로 입력되어야지만, 프로그램을 종료시키시오\n",
    "# while True:\n",
    "#      data = input(\"첫자리가 1인 숫자 6자리를 입력해주세요. >>>\")\n",
    "#      if len(data) == 6 and data[0] != '1' and data.isdigit():\n",
    "#           print(\"정확히 입력하셨습니다.\",data)\n",
    "#           break\n",
    "#      else:\n",
    "#            print(\"첫자리가 1이 아니거나 6자리 데이터가 아닙니다. 다시 확인하시고 입력하세요\",data)"
   ]
  }
 ],
 "metadata": {
  "kernelspec": {
   "display_name": "Python 3",
   "language": "python",
   "name": "python3"
  },
  "language_info": {
   "codemirror_mode": {
    "name": "ipython",
    "version": 3
   },
   "file_extension": ".py",
   "mimetype": "text/x-python",
   "name": "python",
   "nbconvert_exporter": "python",
   "pygments_lexer": "ipython3",
   "version": "3.12.2"
  }
 },
 "nbformat": 4,
 "nbformat_minor": 2
}
